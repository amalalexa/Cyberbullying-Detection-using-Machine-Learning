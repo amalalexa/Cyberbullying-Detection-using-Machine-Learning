{
 "cells": [
  {
   "cell_type": "code",
   "execution_count": 1,
   "metadata": {},
   "outputs": [],
   "source": [
    "try:\n",
    "    %tensorflow_version 2.x\n",
    "except Exception:\n",
    "    pass\n",
    "import tensorflow as tf\n",
    "\n",
    "import tensorflow_hub as hub\n",
    "\n",
    "from tensorflow.keras import layers\n",
    "import bert\n",
    "import pandas as pd\n",
    "import numpy as np\n",
    "import nltk\n",
    "from nltk.stem.lancaster import LancasterStemmer\n",
    "from nltk.stem import WordNetLemmatizer\n",
    "import re\n",
    "import random\n",
    "import math\n",
    "import sklearn\n",
    "from collections import Counter\n",
    "from sklearn.model_selection import train_test_split\n",
    "import tensorboard\n",
    "tensorboard.__version__\n",
    "from datetime import datetime\n",
    "from packaging import version\n",
    "import matplotlib.pyplot as plt\n",
    "%matplotlib inline\n",
    "from beautifultable import BeautifulTable"
   ]
  },
  {
   "cell_type": "code",
   "execution_count": 2,
   "metadata": {},
   "outputs": [],
   "source": [
    "#function to extract data from the file\n",
    "\n",
    "def read_file(df_new):\n",
    "    print(\"Started extracting data from file\",df_new.shape)\n",
    "    dfnew=pd.DataFrame()\n",
    "    dfnew.insert(0,'Post',None)\n",
    "    dfnew.insert(1,'class',None)\n",
    "    for val in df_new.values:\n",
    "        appList=[]\n",
    "        sp=np.array_str(val).split(\",\")\n",
    "        if len(sp)==2:\n",
    "            appList.append(sp[0])\n",
    "            appList.append(sp[1])\n",
    "            dfnew.loc[len(dfnew)]=appList\n",
    "    for i in range(0,dfnew.shape[0]):\n",
    "        dfnew.values[i][1]=int(dfnew.values[i][1].strip(\"\\'|]|\\\"\"))\n",
    "    print(dfnew['class'].value_counts())\n",
    "    print(\"Finished extracting data from file\",dfnew.shape)\n",
    "    return dfnew"
   ]
  },
  {
   "cell_type": "code",
   "execution_count": 3,
   "metadata": {},
   "outputs": [],
   "source": [
    "#performing data cleaning on the formspring.me dataset\n",
    "\n",
    "def post_tokenizing_dataset1(df):\n",
    "    print(\"Started cleaning data in dataframe\", df.shape)\n",
    "    #print(df.head(5))\n",
    "    wpt = nltk.WordPunctTokenizer()\n",
    "    stop_words = nltk.corpus.stopwords.words('english')\n",
    "    lancaster_stemmer=LancasterStemmer()\n",
    "    wordnet_lemmatizer = WordNetLemmatizer()\n",
    "    \n",
    "    token_list=[]\n",
    "    phrase_list=[]\n",
    "    token_df=pd.DataFrame()\n",
    "    token_df.insert(0,'Post',None)\n",
    "    token_df.insert(1,'class',None)\n",
    "    for val in df.values:\n",
    "        append_list=[]\n",
    "        filter_val=re.sub(r'Q:','',val[0])\n",
    "        filter_val=re.sub(r'&#039;[a-z]{1}','',filter_val)\n",
    "        filter_val=re.sub('<[a-z]+>',' ',filter_val).lower()\n",
    "        filter_val=re.sub(r'[^a-zA-Z\\s]', '', filter_val, re.I|re.A)\n",
    "        filter_val=[token for token in wpt.tokenize(filter_val)]\n",
    "        filter_val=[word for word in filter_val if word.isalpha()]\n",
    "        lemma_tokens=[wordnet_lemmatizer.lemmatize(token) for token in filter_val if token not in stop_words and len(token)>=3]\n",
    "        lancaster_tokens = [lancaster_stemmer.stem(word) for word in lemma_tokens]\n",
    "        if(lancaster_tokens):\n",
    "            append_list.append(' '.join(lancaster_tokens))\n",
    "            append_list.append(val[1])\n",
    "            token_df.loc[len(token_df)]=append_list\n",
    "    print(\"Finished cleaning data in dataframe\",token_df.shape)\n",
    "    #print(token_df.head(5))\n",
    "    return token_df"
   ]
  },
  {
   "cell_type": "code",
   "execution_count": 4,
   "metadata": {},
   "outputs": [],
   "source": [
    "#performing data cleaning on the twitter dataset\n",
    "\n",
    "def post_tokenizing_dataset3(df):\n",
    "    print(\"Started cleaning data in dataframe\", df.shape)\n",
    "    #print(df.head(5))\n",
    "    wpt = nltk.WordPunctTokenizer()\n",
    "    stop_words = nltk.corpus.stopwords.words('english')\n",
    "    lancaster_stemmer=LancasterStemmer()\n",
    "    wordnet_lemmatizer = WordNetLemmatizer()\n",
    "    \n",
    "    token_df=pd.DataFrame()\n",
    "    token_df.insert(0,'Post',None)\n",
    "    token_df.insert(1,'class',None)\n",
    "    \n",
    "    for val in df.values:\n",
    "        filter_val=[]\n",
    "        value=re.sub(r'@\\w*','',val[0])\n",
    "        value=re.sub(r'&.*;','',value)\n",
    "        value=re.sub(r'http[s?]?:\\/\\/.*[\\r\\n]*','',value)\n",
    "        tokens=[token for token in wpt.tokenize(value)]\n",
    "        tokens=[word for word in tokens if word.isalpha()]\n",
    "        lemma_tokens=[wordnet_lemmatizer.lemmatize(token) for token in tokens if token not in stop_words and len(token)>=3]\n",
    "        lancaster_tokens = [lancaster_stemmer.stem(word) for word in lemma_tokens]\n",
    "        if len(lancaster_tokens)!=0:\n",
    "            filter_val.append(' '.join(lancaster_tokens).lower())\n",
    "            filter_val.append(val[1])\n",
    "            token_df.loc[len(token_df)]=filter_val\n",
    "    \n",
    "    print(\"Finished cleaning data in dataframe\",token_df.shape)\n",
    "    #print(token_df.head(5))\n",
    "    return token_df"
   ]
  },
  {
   "cell_type": "code",
   "execution_count": 5,
   "metadata": {},
   "outputs": [],
   "source": [
    "#removal of words which occur once\n",
    "\n",
    "def remove_less_occurent_words(token_df,counter):\n",
    "    print(\"Started removing less occurent words\",token_df.shape)\n",
    "    token_df_2=pd.DataFrame()\n",
    "    token_df_2.insert(0,'Post',None)\n",
    "    token_df_2.insert(1,'class',None)\n",
    "    less_list=[]\n",
    "    for key,val in counter.items():\n",
    "        if(val==1):\n",
    "            less_list.append(key)\n",
    "    for val in token_df.values:\n",
    "        list_2=[]\n",
    "        split_list=[]\n",
    "        split_list=val[0].split(' ')\n",
    "        for word in split_list:\n",
    "            if word in less_list:\n",
    "                split_list.remove(word)\n",
    "        list_2.append(' '.join(split_list))\n",
    "        list_2.append(val[1])\n",
    "        token_df_2.loc[len(token_df_2)]=list_2\n",
    "    print(\"Finished removing less occurent words\",token_df_2.shape)\n",
    "    return token_df_2"
   ]
  },
  {
   "cell_type": "code",
   "execution_count": 6,
   "metadata": {},
   "outputs": [],
   "source": [
    "#counting the number of unique words in the corpora\n",
    "\n",
    "def counter_word(text):\n",
    "    print(\"Started counting words\")\n",
    "    count = Counter()\n",
    "    for i in text.values:\n",
    "        for word in i.split():\n",
    "            count[word] += 1\n",
    "    print(\"Finished counting words\")\n",
    "    return count"
   ]
  },
  {
   "cell_type": "code",
   "execution_count": 7,
   "metadata": {},
   "outputs": [
    {
     "name": "stdout",
     "output_type": "stream",
     "text": [
      "Started extracting data from file (12642, 1)\n",
      "0    10794\n",
      "1     1848\n",
      "Name: class, dtype: int64\n",
      "Finished extracting data from file (12642, 2)\n",
      "Started extracting data from file (8856, 1)\n",
      "0    6312\n",
      "1    2505\n",
      "Name: class, dtype: int64\n",
      "Finished extracting data from file (8817, 2)\n"
     ]
    }
   ],
   "source": [
    "#getting the data from csv files\n",
    "\n",
    "df_data_1=read_file(pd.read_csv(\"../../post.csv\",sep=\"\\t\"))\n",
    "df_data_2=read_file(pd.read_csv(\"../../new_data.csv\",sep=\",\"))\n",
    "df_data_3=pd.read_csv(\"../../dataset_4.csv\",sep=\",\")"
   ]
  },
  {
   "cell_type": "code",
   "execution_count": 55,
   "metadata": {},
   "outputs": [
    {
     "name": "stdout",
     "output_type": "stream",
     "text": [
      "Started cleaning data in dataframe (12589, 2)\n",
      "Finished cleaning data in dataframe (12585, 2)\n",
      "Started cleaning data in dataframe (7500, 2)\n",
      "Finished cleaning data in dataframe (7084, 2)\n",
      "0    7500\n",
      "1    7084\n",
      "Name: class, dtype: int64\n",
      "Started counting words\n",
      "Finished counting words\n",
      "12125\n",
      "Started removing less occurent words (14584, 2)\n",
      "Finished removing less occurent words (14584, 2)\n",
      "(7500, 2)\n"
     ]
    }
   ],
   "source": [
    "#calling the function post_tokenizing_dataset1() and post_tokenizing_dataset3() for cleaning\n",
    "\n",
    "df_data_1=post_tokenizing_dataset1(df_data_1)\n",
    "tk=df_data_3[df_data_3['class']==1].iloc[0:7500,]\n",
    "post_tk=post_tokenizing_dataset3(tk)\n",
    "post_tk=post_tk.append(df_data_1[df_data_1['class']==0].iloc[0:7500,], ignore_index=True)\n",
    "print(post_tk['class'].value_counts())\n",
    "\n",
    "post_tk=sklearn.utils.shuffle(post_tk)\n",
    "counter_tk = counter_word(post_tk['Post'])\n",
    "print(len(counter_tk))\n",
    "token_tk=remove_less_occurent_words(post_tk,counter_tk)\n",
    "print(tk.shape)"
   ]
  },
  {
   "cell_type": "code",
   "execution_count": 56,
   "metadata": {},
   "outputs": [],
   "source": [
    "#Loading BERT model\n",
    "\n",
    "BertTokenizer = bert.bert_tokenization.FullTokenizer\n",
    "bert_layer = hub.KerasLayer(\"https://tfhub.dev/tensorflow/bert_en_uncased_L-12_H-768_A-12/2\",trainable=False)\n",
    "vocabulary_file = bert_layer.resolved_object.vocab_file.asset_path.numpy()\n",
    "to_lower_case = bert_layer.resolved_object.do_lower_case.numpy()\n",
    "tokenizer = BertTokenizer(vocabulary_file, to_lower_case)"
   ]
  },
  {
   "cell_type": "code",
   "execution_count": 57,
   "metadata": {},
   "outputs": [],
   "source": [
    "#converting each post into sequence of integers\n",
    "\n",
    "def tokenize_post(post_text):\n",
    "    return tokenizer.convert_tokens_to_ids(tokenizer.tokenize(post_text))\n",
    "tokenized_post = [tokenize_post(post[0]) for post in token_tk.values]"
   ]
  },
  {
   "cell_type": "code",
   "execution_count": 58,
   "metadata": {},
   "outputs": [
    {
     "name": "stdout",
     "output_type": "stream",
     "text": [
      "150\n"
     ]
    }
   ],
   "source": [
    "maxi_len=0\n",
    "for val in tokenized_post:\n",
    "    if(maxi_len<len(val)):\n",
    "        maxi_len=len(val)\n",
    "print(maxi_len)"
   ]
  },
  {
   "cell_type": "code",
   "execution_count": 59,
   "metadata": {},
   "outputs": [],
   "source": [
    "from sklearn.model_selection import train_test_split\n",
    "\n",
    "X_train, X_test, y_train, y_test = train_test_split(tokenized_post,token_tk['class'],test_size = 0.2,stratify=token_tk['class'],\n",
    "                                                   random_state = 42)"
   ]
  },
  {
   "cell_type": "code",
   "execution_count": 60,
   "metadata": {},
   "outputs": [],
   "source": [
    "#padding the integer sequences to make equal length\n",
    "\n",
    "from keras.preprocessing.sequence import pad_sequences\n",
    "\n",
    "X_train_padded = pad_sequences(\n",
    "    X_train, maxlen=maxi_len, padding=\"post\", truncating=\"post\"\n",
    ")\n"
   ]
  },
  {
   "cell_type": "code",
   "execution_count": 88,
   "metadata": {},
   "outputs": [
    {
     "name": "stdout",
     "output_type": "stream",
     "text": [
      "<class 'numpy.ndarray'>\n"
     ]
    }
   ],
   "source": [
    "print(type(X_train_padded))"
   ]
  },
  {
   "cell_type": "code",
   "execution_count": 61,
   "metadata": {},
   "outputs": [],
   "source": [
    "X_test_padded = pad_sequences(\n",
    "    X_test, maxlen=maxi_len, padding=\"post\", truncating=\"post\"\n",
    ")"
   ]
  },
  {
   "cell_type": "code",
   "execution_count": 62,
   "metadata": {},
   "outputs": [],
   "source": [
    "VOCAB_LENGTH = len(tokenizer.vocab)+1\n",
    "EMB_DIM = 300\n",
    "CNN_FILTERS = 100\n",
    "DNN_UNITS = 256\n",
    "OUTPUT_CLASSES = 2\n",
    "\n",
    "DROPOUT_RATE = 0.2\n",
    "\n",
    "NB_EPOCHS = 3"
   ]
  },
  {
   "cell_type": "code",
   "execution_count": 63,
   "metadata": {},
   "outputs": [],
   "source": [
    "class TEXT_MODEL(tf.keras.Model):\n",
    "    \n",
    "    def __init__(self,\n",
    "                 vocabulary_size,\n",
    "                 embedding_dimensions=128,\n",
    "                 cnn_filters=50,\n",
    "                 dnn_units=512,\n",
    "                 dropout_rate=0.1,\n",
    "                 training=False,\n",
    "                 name=\"bert_cnn_model\"):\n",
    "        super(TEXT_MODEL, self).__init__(name=name)\n",
    "        \n",
    "        self.embedding = layers.Embedding(vocabulary_size,\n",
    "                                          embedding_dimensions)\n",
    "        self.cnn_layer1 = layers.Conv1D(filters=cnn_filters,\n",
    "                                        kernel_size=2,\n",
    "                                        padding=\"valid\",\n",
    "                                        activation=\"relu\")\n",
    "        self.cnn_layer2 = layers.Conv1D(filters=cnn_filters,\n",
    "                                        kernel_size=3,\n",
    "                                        padding=\"valid\",\n",
    "                                        activation=\"relu\")\n",
    "        self.cnn_layer3 = layers.Conv1D(filters=cnn_filters,\n",
    "                                        kernel_size=4,\n",
    "                                        padding=\"valid\",\n",
    "                                        activation=\"relu\")\n",
    "        self.pool = layers.GlobalMaxPool1D()\n",
    "        \n",
    "        self.dense_1 = layers.Dense(units=dnn_units, activation=\"relu\")\n",
    "        self.dropout = layers.Dropout(rate=dropout_rate)\n",
    "        self.last_dense = layers.Dense(units=1,activation=\"sigmoid\")\n",
    "    \n",
    "    def call(self, inputs, training):\n",
    "        \n",
    "        l = self.embedding(inputs)\n",
    "        l_1 = self.cnn_layer1(l) \n",
    "        l_1 = self.pool(l_1) \n",
    "        l_2 = self.cnn_layer2(l) \n",
    "        l_2 = self.pool(l_2)\n",
    "        l_3 = self.cnn_layer3(l)\n",
    "        l_3 = self.pool(l_3)\n",
    "        \n",
    "\n",
    "        concatenated = tf.concat([l_1,l_2,l_3], axis=-1) \n",
    "        concatenated = self.dense_1(concatenated)\n",
    "        concatenated = self.dropout(concatenated, training)\n",
    "        model_output = self.last_dense(concatenated)\n",
    "        \n",
    "        return model_output\n"
   ]
  },
  {
   "cell_type": "code",
   "execution_count": 64,
   "metadata": {},
   "outputs": [],
   "source": [
    "\n",
    "model_1Layer = TEXT_MODEL(vocabulary_size=VOCAB_LENGTH,\n",
    "                        embedding_dimensions=EMB_DIM,\n",
    "                        cnn_filters=CNN_FILTERS,\n",
    "                        dnn_units=DNN_UNITS,\n",
    "                        dropout_rate=DROPOUT_RATE)"
   ]
  },
  {
   "cell_type": "code",
   "execution_count": 65,
   "metadata": {},
   "outputs": [],
   "source": [
    "from keras.optimizers import Adam\n",
    "optimizer = Adam(learning_rate=3e-4)\n",
    "\n",
    "model_1Layer.compile(loss=\"binary_crossentropy\",optimizer=optimizer,\n",
    "                   metrics=[\"accuracy\",tf.keras.metrics.Precision(),tf.keras.metrics.Recall()])"
   ]
  },
  {
   "cell_type": "code",
   "execution_count": 66,
   "metadata": {
    "scrolled": true
   },
   "outputs": [
    {
     "name": "stdout",
     "output_type": "stream",
     "text": [
      "Epoch 1/5\n",
      "365/365 [==============================] - 75s 206ms/step - loss: 0.2620 - accuracy: 0.9021 - precision_6: 0.9225 - recall_6: 0.8717\n",
      "Epoch 2/5\n",
      "365/365 [==============================] - 76s 207ms/step - loss: 0.0754 - accuracy: 0.9735 - precision_6: 0.9815 - recall_6: 0.9636\n",
      "Epoch 3/5\n",
      "365/365 [==============================] - 75s 207ms/step - loss: 0.0412 - accuracy: 0.9860 - precision_6: 0.9886 - recall_6: 0.9825\n",
      "Epoch 4/5\n",
      "365/365 [==============================] - 75s 206ms/step - loss: 0.0258 - accuracy: 0.9925 - precision_6: 0.9928 - recall_6: 0.9917\n",
      "Epoch 5/5\n",
      "365/365 [==============================] - 75s 206ms/step - loss: 0.0165 - accuracy: 0.9949 - precision_6: 0.9958 - recall_6: 0.9938\n",
      "92/92 [==============================] - 1s 14ms/step - loss: 0.1339 - accuracy: 0.9578 - precision_6: 0.9563 - recall_6: 0.9570\n",
      "[0.13389058411121368, 0.9578334093093872, 0.9562764167785645, 0.9569513201713562]\n"
     ]
    }
   ],
   "source": [
    "y_train=y_train.astype('int')\n",
    "y_test=y_test.astype('int')\n",
    "train_1Layer=model_1Layer.fit(X_train_padded,y_train,epochs=5)\n",
    "results_1Layer = model_1Layer.evaluate(X_test_padded,y_test)\n",
    "print(results_1Layer)"
   ]
  },
  {
   "cell_type": "code",
   "execution_count": 33,
   "metadata": {
    "scrolled": true
   },
   "outputs": [
    {
     "name": "stdout",
     "output_type": "stream",
     "text": [
      "Epoch 1/5\n",
      "365/365 [==============================] - 57s 157ms/step - loss: 0.2392 - accuracy: 0.9073 - precision_3: 0.9251 - recall_3: 0.8804\n",
      "Epoch 2/5\n",
      "365/365 [==============================] - 58s 160ms/step - loss: 0.0697 - accuracy: 0.9745 - precision_3: 0.9803 - recall_3: 0.96703s - loss: 0.0693 - accuracy: 0.9748 - precision_3:\n",
      "Epoch 3/5\n",
      "365/365 [==============================] - 58s 160ms/step - loss: 0.0383 - accuracy: 0.9876 - precision_3: 0.9871 - recall_3: 0.9873\n",
      "Epoch 4/5\n",
      "365/365 [==============================] - 59s 161ms/step - loss: 0.0223 - accuracy: 0.9937 - precision_3: 0.9938 - recall_3: 0.9933\n",
      "Epoch 5/5\n",
      "365/365 [==============================] - 59s 161ms/step - loss: 0.0124 - accuracy: 0.9957 - precision_3: 0.9954 - recall_3: 0.9958\n",
      "92/92 [==============================] - 1s 16ms/step - loss: 0.1322 - accuracy: 0.9637 - precision_3: 0.9633 - recall_3: 0.9619\n",
      "[0.13222096860408783, 0.9636613130569458, 0.9632508754730225, 0.9618912935256958]\n"
     ]
    }
   ],
   "source": [
    "y_train=y_train.astype('int')\n",
    "y_test=y_test.astype('int')\n",
    "train_2Layer=model_2Layer.fit(X_train_padded,y_train,epochs=5)\n",
    "results_2Layer = model_2Layer.evaluate(X_test_padded,y_test)\n",
    "print(results_2Layer)"
   ]
  },
  {
   "cell_type": "code",
   "execution_count": 47,
   "metadata": {},
   "outputs": [
    {
     "name": "stdout",
     "output_type": "stream",
     "text": [
      "Epoch 1/5\n",
      "365/365 [==============================] - 72s 196ms/step - loss: 0.2392 - accuracy: 0.9031 - precision_4: 0.9353 - recall_4: 0.8599\n",
      "Epoch 2/5\n",
      "365/365 [==============================] - 73s 199ms/step - loss: 0.0687 - accuracy: 0.9767 - precision_4: 0.9794 - recall_4: 0.9725\n",
      "Epoch 3/5\n",
      "365/365 [==============================] - 72s 197ms/step - loss: 0.0351 - accuracy: 0.9895 - precision_4: 0.9901 - recall_4: 0.9882\n",
      "Epoch 4/5\n",
      "365/365 [==============================] - 73s 200ms/step - loss: 0.0186 - accuracy: 0.9943 - precision_4: 0.9940 - recall_4: 0.9942\n",
      "Epoch 5/5\n",
      "365/365 [==============================] - 73s 199ms/step - loss: 0.0116 - accuracy: 0.9953 - precision_4: 0.9942 - recall_4: 0.9961\n",
      "92/92 [==============================] - 2s 24ms/step - loss: 0.1364 - accuracy: 0.9616 - precision_4: 0.9631 - recall_4: 0.9577\n",
      "[0.1363619565963745, 0.9616044163703918, 0.9630944132804871, 0.9576570391654968]\n"
     ]
    }
   ],
   "source": [
    "y_train=y_train.astype('int')\n",
    "y_test=y_test.astype('int')\n",
    "train_3Layer=model_3Layer.fit(X_train_padded,y_train,epochs=5)\n",
    "results_3Layer = model_3Layer.evaluate(X_test_padded,y_test)\n",
    "print(results_3Layer)"
   ]
  },
  {
   "cell_type": "code",
   "execution_count": 81,
   "metadata": {},
   "outputs": [
    {
     "name": "stdout",
     "output_type": "stream",
     "text": [
      "WARNING:tensorflow:From C:\\Users\\aml_alx\\Anaconda3\\lib\\site-packages\\tensorflow\\python\\training\\tracking\\tracking.py:111: Model.state_updates (from tensorflow.python.keras.engine.training) is deprecated and will be removed in a future version.\n",
      "Instructions for updating:\n",
      "This property should not be used in TensorFlow 2.0, as updates are applied automatically.\n"
     ]
    },
    {
     "name": "stderr",
     "output_type": "stream",
     "text": [
      "WARNING:tensorflow:From C:\\Users\\aml_alx\\Anaconda3\\lib\\site-packages\\tensorflow\\python\\training\\tracking\\tracking.py:111: Model.state_updates (from tensorflow.python.keras.engine.training) is deprecated and will be removed in a future version.\n",
      "Instructions for updating:\n",
      "This property should not be used in TensorFlow 2.0, as updates are applied automatically.\n"
     ]
    },
    {
     "name": "stdout",
     "output_type": "stream",
     "text": [
      "WARNING:tensorflow:From C:\\Users\\aml_alx\\Anaconda3\\lib\\site-packages\\tensorflow\\python\\training\\tracking\\tracking.py:111: Layer.updates (from tensorflow.python.keras.engine.base_layer) is deprecated and will be removed in a future version.\n",
      "Instructions for updating:\n",
      "This property should not be used in TensorFlow 2.0, as updates are applied automatically.\n"
     ]
    },
    {
     "name": "stderr",
     "output_type": "stream",
     "text": [
      "WARNING:tensorflow:From C:\\Users\\aml_alx\\Anaconda3\\lib\\site-packages\\tensorflow\\python\\training\\tracking\\tracking.py:111: Layer.updates (from tensorflow.python.keras.engine.base_layer) is deprecated and will be removed in a future version.\n",
      "Instructions for updating:\n",
      "This property should not be used in TensorFlow 2.0, as updates are applied automatically.\n"
     ]
    },
    {
     "name": "stdout",
     "output_type": "stream",
     "text": [
      "INFO:tensorflow:Assets written to: CNN_model_3Layers.pkl\\assets\n"
     ]
    },
    {
     "name": "stderr",
     "output_type": "stream",
     "text": [
      "INFO:tensorflow:Assets written to: CNN_model_3Layers.pkl\\assets\n"
     ]
    }
   ],
   "source": [
    "model_3Layer.save(\"CNN_MODEL_FOR_POF.PKL\")"
   ]
  },
  {
   "cell_type": "code",
   "execution_count": 76,
   "metadata": {},
   "outputs": [
    {
     "name": "stdout",
     "output_type": "stream",
     "text": [
      "[0.9566137494367034, 0.962570604414537, 0.9603680300066937]\n"
     ]
    }
   ],
   "source": [
    "F1=[]\n",
    "for val in [results_1Layer,results_2Layer,results_3Layer]:\n",
    "    F1.append(2 * ((val[2]*val[3])/(val[2]+val[3])))\n",
    "print(F1)"
   ]
  },
  {
   "cell_type": "code",
   "execution_count": 77,
   "metadata": {},
   "outputs": [
    {
     "data": {
      "image/png": "[encoded data removed]",
      "text/plain": [
       "<Figure size 432x288 with 1 Axes>"
      ]
     },
     "metadata": {
      "needs_background": "light"
     },
     "output_type": "display_data"
    }
   ],
   "source": [
    "CNN_1Layer_metrics=np.array([results_1Layer[1],F1[0],results_1Layer[2],results_1Layer[3]])\n",
    "CNN_2Layer_metrics=np.array([results_2Layer[1],F1[1],results_2Layer[2],results_2Layer[3]])\n",
    "CNN_3Layer_metrics=np.array([results_3Layer[1],F1[2],results_3Layer[2],results_3Layer[3]])\n",
    "index = ['accuracy', 'F1-score', 'precision', 'recall']\n",
    "df_metrics = pd.DataFrame({'1 Convolution Layer': CNN_1Layer_metrics, '2 Convolution Layer':CNN_2Layer_metrics,'3 Convolution Layer':CNN_3Layer_metrics}, index=index)\n",
    "df_metrics.plot.bar(rot=0)\n",
    "plt.legend(loc=\"lower right\")\n",
    "plt.show()"
   ]
  },
  {
   "cell_type": "code",
   "execution_count": 78,
   "metadata": {},
   "outputs": [
    {
     "name": "stdout",
     "output_type": "stream",
     "text": [
      "+-----------+----------+------------+-----------+--------+\n",
      "| Algorithm | Accuracy | F1 Measure | Precision | Recall |\n",
      "+-----------+----------+------------+-----------+--------+\n",
      "|   CNN 1   |  0.958   |   0.957    |   0.956   | 0.957  |\n",
      "+-----------+----------+------------+-----------+--------+\n",
      "|   CNN 2   |  0.964   |   0.963    |   0.963   | 0.962  |\n",
      "+-----------+----------+------------+-----------+--------+\n",
      "|   CNN 3   |  0.962   |    0.96    |   0.963   | 0.958  |\n",
      "+-----------+----------+------------+-----------+--------+\n"
     ]
    },
    {
     "name": "stderr",
     "output_type": "stream",
     "text": [
      "C:\\Users\\aml_alx\\Anaconda3\\lib\\site-packages\\beautifultable\\utils.py:113: FutureWarning: 'BeautifulTable.column_headers' has been deprecated in 'v1.0.0' and will be removed in 'v1.2.0'. Use 'BTColumnCollection.header' instead.\n",
      "  warnings.warn(message, FutureWarning)\n",
      "C:\\Users\\aml_alx\\Anaconda3\\lib\\site-packages\\beautifultable\\utils.py:113: FutureWarning: 'BeautifulTable.append_row' has been deprecated in 'v1.0.0' and will be removed in 'v1.2.0'. Use 'BTRowCollection.append' instead.\n",
      "  warnings.warn(message, FutureWarning)\n"
     ]
    }
   ],
   "source": [
    "h0=[\"Algorithm\"]\n",
    "h1=[\"CNN 1\",results_1Layer[1],F1[0],results_1Layer[2],results_1Layer[3]]\n",
    "h2=[\"CNN 2\",results_2Layer[1],F1[1],results_2Layer[2],results_2Layer[3]]\n",
    "h3=[\"CNN 3\",results_3Layer[1],F1[2],results_3Layer[2],results_3Layer[3]]\n",
    "\n",
    "\n",
    "h0.append(\"Accuracy\")\n",
    "h0.append(\"F1 Measure\")\n",
    "h0.append(\"Precision\")\n",
    "h0.append(\"Recall\")\n",
    "\n",
    "table = BeautifulTable()\n",
    "table.column_headers = h0\n",
    "table.append_row(h1)\n",
    "table.append_row(h2)\n",
    "table.append_row(h3)\n",
    "print(table)"
   ]
  },
  {
   "cell_type": "markdown",
   "metadata": {},
   "source": [
    "## Testing"
   ]
  },
  {
   "cell_type": "code",
   "execution_count": 35,
   "metadata": {},
   "outputs": [
    {
     "name": "stdout",
     "output_type": "stream",
     "text": [
      "Started cleaning data in dataframe (1000, 2)\n",
      "Finished cleaning data in dataframe (998, 2)\n",
      "Started cleaning data in dataframe (1000, 2)\n",
      "Finished cleaning data in dataframe (999, 2)\n",
      "1    999\n",
      "0    998\n",
      "Name: class, dtype: int64\n"
     ]
    }
   ],
   "source": [
    "test_data=pd.DataFrame()\n",
    "t1=df_data_2[df_data_2['class']==0].iloc[0:1000,]\n",
    "t1=post_tokenizing_dataset1(t1)\n",
    "t2=df_data_3[df_data_3['class']==1].iloc[8000:9000,]\n",
    "#data={'Post':['\"@Addicted2Guys: -SimplyAddictedToGuys bitch bitch http://t.co/1jL4hi8ZMF\" woof woof hot scally lad'],\n",
    "#      'class':[0]}\n",
    "#t2=pd.DataFrame(data)\n",
    "\n",
    "#print(t2)\n",
    "t2=post_tokenizing_dataset3(t2)\n",
    "test_data=test_data.append(t1 , ignore_index = True)\n",
    "test_data=test_data.append(t2 , ignore_index = True)\n",
    "test_data=sklearn.utils.shuffle(test_data)\n",
    "print(test_data['class'].value_counts())"
   ]
  },
  {
   "cell_type": "code",
   "execution_count": 36,
   "metadata": {},
   "outputs": [],
   "source": [
    "test_data=test_data.dropna()\n",
    "tokenized_post_test = [tokenize_post(post[0]) for post in test_data.values]"
   ]
  },
  {
   "cell_type": "code",
   "execution_count": 37,
   "metadata": {},
   "outputs": [],
   "source": [
    "maxi_test=0\n",
    "for val in tokenized_post_test:\n",
    "    if maxi_test<len(val):\n",
    "        maxi_test=len(val)"
   ]
  },
  {
   "cell_type": "code",
   "execution_count": 39,
   "metadata": {},
   "outputs": [],
   "source": [
    "test_padded = pad_sequences(\n",
    "    tokenized_post_test, maxlen=maxi_test, padding=\"post\", truncating=\"post\"\n",
    ")"
   ]
  },
  {
   "cell_type": "code",
   "execution_count": 68,
   "metadata": {},
   "outputs": [
    {
     "name": "stdout",
     "output_type": "stream",
     "text": [
      "63/63 [==============================] - 1s 8ms/step - loss: 0.6886 - accuracy: 0.8207 - precision_6: 0.7494 - recall_6: 0.9640\n"
     ]
    }
   ],
   "source": [
    "values_test=test_data['class']\n",
    "values_test=values_test.astype('int')\n",
    "test_result_1Layer=model_1Layer.evaluate(test_padded,values_test)"
   ]
  },
  {
   "cell_type": "code",
   "execution_count": 69,
   "metadata": {},
   "outputs": [
    {
     "name": "stdout",
     "output_type": "stream",
     "text": [
      "63/63 [==============================] - 1s 12ms/step - loss: 0.5888 - accuracy: 0.8483 - precision_3: 0.7834 - recall_3: 0.9630\n"
     ]
    }
   ],
   "source": [
    "values_test=test_data['class']\n",
    "values_test=values_test.astype('int')\n",
    "test_result_2Layer=model_2Layer.evaluate(test_padded,values_test)"
   ]
  },
  {
   "cell_type": "code",
   "execution_count": 70,
   "metadata": {},
   "outputs": [
    {
     "name": "stdout",
     "output_type": "stream",
     "text": [
      "63/63 [==============================] - 1s 17ms/step - loss: 0.5055 - accuracy: 0.8718 - precision_4: 0.8114 - recall_4: 0.9690\n"
     ]
    }
   ],
   "source": [
    "values_test=test_data['class']\n",
    "values_test=values_test.astype('int')\n",
    "test_result_3Layer=model_3Layer.evaluate(test_padded,values_test)"
   ]
  },
  {
   "cell_type": "code",
   "execution_count": 72,
   "metadata": {},
   "outputs": [
    {
     "name": "stdout",
     "output_type": "stream",
     "text": [
      "[0.843257456938649, 0.8639425198257399, 0.8832116776952171]\n"
     ]
    }
   ],
   "source": [
    "F1_test=[]\n",
    "for val in [test_result_1Layer,test_result_2Layer,test_result_3Layer]:\n",
    "    F1_test.append(2 * ((val[2]*val[3])/(val[2]+val[3])))\n",
    "print(F1_test)"
   ]
  },
  {
   "cell_type": "code",
   "execution_count": 74,
   "metadata": {},
   "outputs": [
    {
     "data": {
      "image/png": "[encoded data removed]",
      "text/plain": [
       "<Figure size 432x288 with 1 Axes>"
      ]
     },
     "metadata": {
      "needs_background": "light"
     },
     "output_type": "display_data"
    }
   ],
   "source": [
    "CNN_1Layer_metrics_test=np.array([test_result_1Layer[1],F1_test[0],test_result_1Layer[2],test_result_1Layer[3]])\n",
    "CNN_2Layer_metrics_test=np.array([test_result_2Layer[1],F1_test[1],test_result_2Layer[2],test_result_2Layer[3]])\n",
    "CNN_3Layer_metrics_test=np.array([test_result_3Layer[1],F1_test[2],test_result_3Layer[2],test_result_3Layer[3]])\n",
    "index = ['accuracy', 'F1-score', 'precision', 'recall']\n",
    "df_metrics = pd.DataFrame({'1 Convolution Layer': CNN_1Layer_metrics_test, '2 Convolution Layer':CNN_2Layer_metrics_test,'3 Convolution Layer':CNN_3Layer_metrics_test}, index=index)\n",
    "df_metrics.plot.bar(rot=0)\n",
    "plt.legend(loc=\"lower right\")\n",
    "plt.show()"
   ]
  },
  {
   "cell_type": "code",
   "execution_count": 94,
   "metadata": {},
   "outputs": [
    {
     "data": {
      "image/png": "[encoded data removed]",
      "text/plain": [
       "<Figure size 432x288 with 1 Axes>"
      ]
     },
     "metadata": {
      "needs_background": "light"
     },
     "output_type": "display_data"
    }
   ],
   "source": [
    "CNN_1Layer_metrics_test=np.array([test_result_1Layer[1],F1_test[0],test_result_1Layer[2],test_result_1Layer[3]])\n",
    "CNN_2Layer_metrics_test=np.array([test_result_2Layer[1],F1_test[1],test_result_2Layer[2],test_result_2Layer[3]])\n",
    "CNN_3Layer_metrics_test=np.array([test_result_3Layer[1],F1_test[2],test_result_3Layer[2],test_result_3Layer[3]])\n",
    "index = ['accuracy', 'F1-score', 'precision', 'recall']\n",
    "df_metrics = pd.DataFrame({'1 Convolution Layer': CNN_1Layer_metrics_test, '2 Convolution Layer':CNN_2Layer_metrics_test,'3 Convolution Layer':CNN_3Layer_metrics_test}, index=index)\n",
    "df_metrics.plot.bar(rot=0)\n",
    "plt.ylim(0.65, 1)\n",
    "plt.legend(loc=\"lower right\")\n",
    "plt.show()"
   ]
  },
  {
   "cell_type": "code",
   "execution_count": 80,
   "metadata": {},
   "outputs": [
    {
     "name": "stdout",
     "output_type": "stream",
     "text": [
      "+-----------+----------+------------+-----------+--------+\n",
      "| Algorithm | Accuracy | F1 Measure | Precision | Recall |\n",
      "+-----------+----------+------------+-----------+--------+\n",
      "|   CNN 1   |  0.821   |   0.843    |   0.749   | 0.964  |\n",
      "+-----------+----------+------------+-----------+--------+\n",
      "|   CNN 2   |  0.848   |   0.864    |   0.783   | 0.963  |\n",
      "+-----------+----------+------------+-----------+--------+\n",
      "|   CNN 3   |  0.872   |   0.883    |   0.811   | 0.969  |\n",
      "+-----------+----------+------------+-----------+--------+\n"
     ]
    }
   ],
   "source": [
    "h0=[\"Algorithm\"]\n",
    "h1=[\"CNN 1\",test_result_1Layer[1],F1_test[0],test_result_1Layer[2],test_result_1Layer[3]]\n",
    "h2=[\"CNN 2\",test_result_2Layer[1],F1_test[1],test_result_2Layer[2],test_result_2Layer[3]]\n",
    "h3=[\"CNN 3\",test_result_3Layer[1],F1_test[2],test_result_3Layer[2],test_result_3Layer[3]]\n",
    "\n",
    "\n",
    "h0.append(\"Accuracy\")\n",
    "h0.append(\"F1 Measure\")\n",
    "h0.append(\"Precision\")\n",
    "h0.append(\"Recall\")\n",
    "\n",
    "table = BeautifulTable()\n",
    "table.column_headers = h0\n",
    "table.append_row(h1)\n",
    "table.append_row(h2)\n",
    "table.append_row(h3)\n",
    "print(table)"
   ]
  }
 ],
 "metadata": {
  "kernelspec": {
   "display_name": "Python 3",
   "language": "python",
   "name": "python3"
  },
  "language_info": {
   "codemirror_mode": {
    "name": "ipython",
    "version": 3
   },
   "file_extension": ".py",
   "mimetype": "text/x-python",
   "name": "python",
   "nbconvert_exporter": "python",
   "pygments_lexer": "ipython3",
   "version": "3.7.3"
  }
 },
 "nbformat": 4,
 "nbformat_minor": 2
}
