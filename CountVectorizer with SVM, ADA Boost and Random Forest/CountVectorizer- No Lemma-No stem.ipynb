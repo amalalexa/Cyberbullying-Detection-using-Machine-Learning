{
 "cells": [
  {
   "cell_type": "markdown",
   "metadata": {},
   "source": [
    "## Preprocessing - Stemming, Lemma, Length>=3, Stop words removal, word occurences>1\n",
    "## Count Vectorizer"
   ]
  },
  {
   "cell_type": "code",
   "execution_count": 1,
   "metadata": {},
   "outputs": [],
   "source": [
    "import numpy as np\n",
    "import pandas as pd\n",
    "import os\n",
    "import nltk\n",
    "import re\n",
    "import sklearn\n",
    "import multiprocessing\n",
    "import xgboost as xg\n",
    "import string\n",
    "import joblib\n",
    "from scipy import interp\n",
    "from nltk.stem import WordNetLemmatizer\n",
    "from nltk.stem.lancaster import LancasterStemmer\n",
    "from collections import Counter\n",
    "from sklearn.metrics import confusion_matrix,roc_curve, precision_recall_fscore_support\n",
    "from sklearn.metrics import auc, accuracy_score, f1_score,precision_score,recall_score, make_scorer\n",
    "from sklearn.decomposition import PCA\n",
    "from sklearn.svm import LinearSVC,SVC\n",
    "from sklearn.pipeline import make_pipeline, Pipeline\n",
    "from sklearn.linear_model import SGDClassifier\n",
    "from sklearn.model_selection import KFold,train_test_split,GridSearchCV\n",
    "from sklearn.ensemble import AdaBoostClassifier, RandomForestClassifier, BaggingClassifier\n",
    "from sklearn.tree import DecisionTreeClassifier\n",
    "from sklearn.model_selection import GridSearchCV\n",
    "from sklearn.feature_selection import SelectKBest, chi2\n",
    "from sklearn.preprocessing import MinMaxScaler\n",
    "from sklearn.feature_extraction.text import CountVectorizer\n",
    "import matplotlib.pyplot as plt\n",
    "%matplotlib inline"
   ]
  },
  {
   "cell_type": "code",
   "execution_count": 2,
   "metadata": {},
   "outputs": [],
   "source": [
    "#function to extract data from the file\n",
    "\n",
    "def read_file(df_new):\n",
    "    print(\"Started extracting data from file\",df_new.shape)\n",
    "    dfnew=pd.DataFrame()\n",
    "    dfnew.insert(0,'Post',None)\n",
    "    dfnew.insert(1,'class',None)\n",
    "    for val in df_new.values:\n",
    "        appList=[]\n",
    "        sp=np.array_str(val).split(\",\")\n",
    "        if len(sp)==2:\n",
    "            appList.append(sp[0])\n",
    "            appList.append(sp[1])\n",
    "            dfnew.loc[len(dfnew)]=appList\n",
    "    for i in range(0,dfnew.shape[0]):\n",
    "        dfnew.values[i][1]=int(dfnew.values[i][1].strip(\"\\'|]|\\\"\"))\n",
    "    print(dfnew['class'].value_counts())\n",
    "    print(\"Finished extracting data from file\",dfnew.shape)\n",
    "    return dfnew"
   ]
  },
  {
   "cell_type": "code",
   "execution_count": 3,
   "metadata": {},
   "outputs": [],
   "source": [
    "#performing data cleaning on the formspring.me dataset\n",
    "\n",
    "def post_tokenizing_dataset1(df):\n",
    "    print(\"Started cleaning data in dataframe\", df.shape)\n",
    "    #print(df.head(5))\n",
    "    wpt = nltk.WordPunctTokenizer()\n",
    "    stop_words = nltk.corpus.stopwords.words('english')\n",
    "    lancaster_stemmer=LancasterStemmer()\n",
    "    wordnet_lemmatizer = WordNetLemmatizer()\n",
    "    \n",
    "    token_list=[]\n",
    "    phrase_list=[]\n",
    "    token_df=pd.DataFrame()\n",
    "    token_df.insert(0,'Post',None)\n",
    "    token_df.insert(1,'class',None)\n",
    "    for val in df.values:\n",
    "        append_list=[]\n",
    "        filter_val=re.sub(r'Q:','',val[0])\n",
    "        filter_val=re.sub(r'&#039;[a-z]{1}','',filter_val)\n",
    "        filter_val=re.sub('<[a-z]+>',' ',filter_val).lower()\n",
    "        filter_val=re.sub(r'[^a-zA-Z\\s]', '', filter_val, re.I|re.A)\n",
    "        filter_val=[token for token in wpt.tokenize(filter_val)]\n",
    "        filter_val=[word for word in filter_val if word.isalpha()]\n",
    "        #tokens=[wordnet_lemmatizer.lemmatize(token) for token in filter_val if token not in stop_words and len(token)>=3]\n",
    "        tokens = [word for word in filter_val if word not in stop_words and len(word)>=3]\n",
    "        if(tokens):\n",
    "            append_list.append(' '.join(tokens))\n",
    "            append_list.append(val[1])\n",
    "            token_df.loc[len(token_df)]=append_list\n",
    "    print(\"Finished cleaning data in dataframe\",token_df.shape)\n",
    "    #print(token_df.head(5))\n",
    "    return token_df"
   ]
  },
  {
   "cell_type": "code",
   "execution_count": 4,
   "metadata": {},
   "outputs": [],
   "source": [
    "#performing data cleaning on the twitter dataset\n",
    "\n",
    "def post_tokenizing_dataset3(df):\n",
    "    print(\"Started cleaning data in dataframe\", df.shape)\n",
    "    #print(df.head(5))\n",
    "    wpt = nltk.WordPunctTokenizer()\n",
    "    stop_words = nltk.corpus.stopwords.words('english')\n",
    "    lancaster_stemmer=LancasterStemmer()\n",
    "    wordnet_lemmatizer = WordNetLemmatizer()\n",
    "    \n",
    "    token_df=pd.DataFrame()\n",
    "    token_df.insert(0,'Post',None)\n",
    "    token_df.insert(1,'class',None)\n",
    "    \n",
    "    for val in df.values:\n",
    "        filter_val=[]\n",
    "        value=re.sub(r'@\\w*','',val[0])\n",
    "        value=re.sub(r'&.*;','',value)\n",
    "        value=re.sub(r'http[s?]?:\\/\\/.*[\\r\\n]*','',value)\n",
    "        tokens=[token for token in wpt.tokenize(value)]\n",
    "        tokens=[word for word in tokens if word.isalpha()]\n",
    "        #tokens=[wordnet_lemmatizer.lemmatize(token) for token in tokens if token not in stop_words and len(token)>=3]\n",
    "        tokens = [word for word in tokens if word not in stop_words and len(word)>=3]\n",
    "        if len(tokens)!=0:\n",
    "            filter_val.append(' '.join(tokens).lower())\n",
    "            filter_val.append(val[1])\n",
    "            token_df.loc[len(token_df)]=filter_val\n",
    "    \n",
    "    print(\"Finished cleaning data in dataframe\",token_df.shape)\n",
    "    #print(token_df.head(5))\n",
    "    return token_df"
   ]
  },
  {
   "cell_type": "code",
   "execution_count": 5,
   "metadata": {},
   "outputs": [],
   "source": [
    "#counting the number of unique words in the corpora\n",
    "\n",
    "def counter_word(text):\n",
    "    print(\"Started counting words\")\n",
    "    count = Counter()\n",
    "    for i in text.values:\n",
    "        for word in i.split():\n",
    "            count[word] += 1\n",
    "    print(\"Finished post vector calculation :\")\n",
    "    return count"
   ]
  },
  {
   "cell_type": "code",
   "execution_count": 6,
   "metadata": {},
   "outputs": [],
   "source": [
    "#removal of words which occur once\n",
    "\n",
    "def remove_less_occurent_words(token_df,counter):\n",
    "    print(\"Started removing less occurent words\",token_df.shape)\n",
    "    token_df_2=pd.DataFrame()\n",
    "    token_df_2.insert(0,'Post',None)\n",
    "    token_df_2.insert(1,'class',None)\n",
    "    less_list=[]\n",
    "    for key,val in counter.items():\n",
    "        if(val==1):\n",
    "            less_list.append(key)\n",
    "    for val in token_df.values:\n",
    "        list_2=[]\n",
    "        split_list=[]\n",
    "        split_list=val[0].split(' ')\n",
    "        for word in split_list:\n",
    "            if word in less_list:\n",
    "                split_list.remove(word)\n",
    "        list_2.append(' '.join(split_list))\n",
    "        list_2.append(val[1])\n",
    "        token_df_2.loc[len(token_df_2)]=list_2\n",
    "    print(\"Finished removing less occurent words\",token_df_2.shape)\n",
    "    return token_df_2"
   ]
  },
  {
   "cell_type": "code",
   "execution_count": 7,
   "metadata": {
    "scrolled": true
   },
   "outputs": [
    {
     "name": "stdout",
     "output_type": "stream",
     "text": [
      "Started extracting data from file (12642, 1)\n",
      "0    10794\n",
      "1     1848\n",
      "Name: class, dtype: int64\n",
      "Finished extracting data from file (12642, 2)\n",
      "Started extracting data from file (8856, 1)\n",
      "0    6312\n",
      "1    2505\n",
      "Name: class, dtype: int64\n",
      "Finished extracting data from file (8817, 2)\n"
     ]
    }
   ],
   "source": [
    "#getting the data from csv files\n",
    "\n",
    "df_data_1=read_file(pd.read_csv(\"../../post.csv\",sep=\"\\t\"))\n",
    "df_data_2=read_file(pd.read_csv(\"../../new_data.csv\",sep=\",\"))\n",
    "df_data_3=pd.read_csv(\"../../dataset_4.csv\",sep=\",\")"
   ]
  },
  {
   "cell_type": "code",
   "execution_count": 8,
   "metadata": {},
   "outputs": [
    {
     "name": "stdout",
     "output_type": "stream",
     "text": [
      "Started cleaning data in dataframe (12642, 2)\n",
      "Finished cleaning data in dataframe (12589, 2)\n",
      "Started cleaning data in dataframe (7500, 2)\n",
      "Finished cleaning data in dataframe (7084, 2)\n",
      "0    7500\n",
      "1    7084\n",
      "Name: class, dtype: int64\n",
      "Started counting words\n",
      "Finished post vector calculation :\n",
      "17547\n",
      "Started removing less occurent words (14584, 2)\n",
      "Finished removing less occurent words (14584, 2)\n",
      "(7500, 2)\n"
     ]
    }
   ],
   "source": [
    "#calling the function post_tokenizing_dataset1() and post_tokenizing_dataset3() for cleaning\n",
    "\n",
    "df_data_1=post_tokenizing_dataset1(df_data_1)\n",
    "tk=df_data_3[df_data_3['class']==1].iloc[0:7500,]\n",
    "post_tk=post_tokenizing_dataset3(tk)\n",
    "post_tk=post_tk.append(df_data_1[df_data_1['class']==0].iloc[0:7500,], ignore_index=True)\n",
    "print(post_tk['class'].value_counts())\n",
    "\n",
    "post_tk=sklearn.utils.shuffle(post_tk)\n",
    "counter_tk = counter_word(post_tk['Post'])\n",
    "print(len(counter_tk))\n",
    "token_tk=remove_less_occurent_words(post_tk,counter_tk)\n",
    "print(tk.shape)"
   ]
  },
  {
   "cell_type": "code",
   "execution_count": 9,
   "metadata": {},
   "outputs": [
    {
     "name": "stdout",
     "output_type": "stream",
     "text": [
      "(11667,) (2917,)\n",
      "(11667,) (2917,)\n"
     ]
    }
   ],
   "source": [
    "X_train, X_test, y_train, y_test = train_test_split(token_tk['Post'],token_tk['class'],test_size = 0.2,\n",
    "                                                   stratify=token_tk['class'], random_state = 42)\n",
    "print(X_train.shape, X_test.shape)\n",
    "print(y_train.shape,y_test.shape)"
   ]
  },
  {
   "cell_type": "code",
   "execution_count": 10,
   "metadata": {},
   "outputs": [],
   "source": [
    "vectorizer = CountVectorizer()\n",
    "X_v=vectorizer.fit_transform(X_train)\n",
    "Xt_v=vectorizer.transform(X_test)"
   ]
  },
  {
   "cell_type": "code",
   "execution_count": 11,
   "metadata": {},
   "outputs": [
    {
     "name": "stdout",
     "output_type": "stream",
     "text": [
      "(11667, 8074)\n",
      "(2917, 8074)\n"
     ]
    }
   ],
   "source": [
    "print(X_v.shape)\n",
    "print(Xt_v.shape)"
   ]
  },
  {
   "cell_type": "code",
   "execution_count": 12,
   "metadata": {},
   "outputs": [],
   "source": [
    "y_train=y_train.astype('int')\n",
    "y_test=y_test.astype('int')"
   ]
  },
  {
   "cell_type": "markdown",
   "metadata": {},
   "source": [
    "## Evaluation Metrics"
   ]
  },
  {
   "cell_type": "code",
   "execution_count": 13,
   "metadata": {},
   "outputs": [],
   "source": [
    "mean_fpr = np.linspace(start=0, stop=1, num=100)\n",
    "def model_evaluation(X_test, y_test, model):\n",
    "    _probabilities = model.predict_proba(X_test)[:, 1]\n",
    "    _predicted_values = model.predict(X_test)\n",
    "    _accuracy = accuracy_score(y_test, _predicted_values)\n",
    "    _precision, _recall, _f1_score, _ = precision_recall_fscore_support(y_test, _predicted_values, labels=[1])\n",
    "    _fpr, _tpr, _ = roc_curve(y_test, _probabilities)\n",
    "    _tpr_transformed = np.array([interp(mean_fpr, _fpr, _tpr)])\n",
    "    _auc = auc(_fpr, _tpr)\n",
    "    if X_test.shape[0]!=1:\n",
    "        tn, fp, fn, tp = confusion_matrix(y_test, _predicted_values).ravel()\n",
    "        print(\"Confusion matrix:  tn={tn},  fp={fp},  fn={fn},  tp={tp}\".format(tn=tn,fp=fp,fn=fn,tp=tp))\n",
    "    else:\n",
    "        print(confusion_matrix(y_test, _predicted_values).ravel())\n",
    "    return _accuracy, _f1_score[0], _precision[0], _recall[0],_auc,_tpr_transformed"
   ]
  },
  {
   "cell_type": "code",
   "execution_count": 14,
   "metadata": {},
   "outputs": [],
   "source": [
    "def param_tuning(model, param_dict, X_train, y_train, X_test, y_test):\n",
    "    \n",
    "\n",
    "    grid_object = GridSearchCV(estimator = model,\n",
    "                           param_grid = param_dict,\n",
    "                           cv = 2,iid=False, refit=True)\n",
    "\n",
    "    grid_fit = grid_object.fit(X_train, y_train)\n",
    "\n",
    "    best_model = grid_fit.best_estimator_\n",
    "    predictions = (model.fit(X_train, y_train)).predict(X_test)\n",
    "    best_predictions = best_model.predict(X_test)\n",
    "    accuracy,f1score,precision,recall,auc,tpr=model_evaluation(X_test,y_test,best_model)\n",
    "   \n",
    "    print(model.__class__.__name__)\n",
    "    print(\"\\nOptimized Model\\n------\")\n",
    "    print(\"Best Parameters: {}\".format(grid_fit.best_params_))\n",
    "    print(\"Accuracy: {:.4f}\".format(accuracy))\n",
    "    print(\"F1-score: {:.4f}\".format(f1score))\n",
    "    print(\"Precision: {:.4f}\".format(precision))\n",
    "    print(\"Recall: {:.4f}\".format(recall))\n",
    "    print(\"AUC: {:.4f}\".format(auc))\n",
    "    #tn, fp, fn, tp = confusion_matrix(y_test, best_predictions).ravel()\n",
    "    #print(\"Confusion matrix:  tn={tn},  fp={fp},  fn={fn},  tp={tp}\".format(tn=tn,fp=fp,fn=fn,tp=tp))\n",
    "    return grid_object,accuracy,f1score,precision,recall,auc,tpr"
   ]
  },
  {
   "cell_type": "markdown",
   "metadata": {},
   "source": [
    "## ADA BOOST"
   ]
  },
  {
   "cell_type": "code",
   "execution_count": 15,
   "metadata": {},
   "outputs": [
    {
     "name": "stdout",
     "output_type": "stream",
     "text": [
      "Confusion matrix:  tn=1484,  fp=16,  fn=97,  tp=1320\n",
      "Pipeline\n",
      "\n",
      "Optimized Model\n",
      "------\n",
      "Best Parameters: {'ada__learning_rate': 0.25, 'ada__n_estimators': 600, 'ada__random_state': 42, 'fs__k': 1000, 'fs__score_func': <function chi2 at 0x00000175672FA598>}\n",
      "Accuracy: 0.9613\n",
      "F1-score: 0.9590\n",
      "Precision: 0.9880\n",
      "Recall: 0.9315\n",
      "AUC: 0.9904\n"
     ]
    },
    {
     "name": "stderr",
     "output_type": "stream",
     "text": [
      "C:\\Users\\aml_alx\\Anaconda3\\lib\\site-packages\\ipykernel_launcher.py:8: DeprecationWarning: scipy.interp is deprecated and will be removed in SciPy 2.0.0, use numpy.interp instead\n",
      "  \n"
     ]
    }
   ],
   "source": [
    "pipe = Pipeline([('fs',SelectKBest()),\n",
    "                ('ada', AdaBoostClassifier())])\n",
    "param_grid = {\n",
    "    'ada__n_estimators': [1, 2, 4, 6, 8, 32, 100, 200, 500],  \n",
    "    'ada__random_state': [42],\n",
    "    'ada__learning_rate' : [1, 0.5, 0.25, 0.05, 0.01],\n",
    "    'fs__k':[1000],\n",
    "    'fs__score_func':[chi2]\n",
    "}\n",
    "model_ada,ADA_accuracy,ADA_f1_score,ADA_precision,ADA_recall,ADA_auc,ADA_tpr= param_tuning(pipe,param_grid,X_v,y_train,Xt_v,y_test)"
   ]
  },
  {
   "cell_type": "markdown",
   "metadata": {},
   "source": [
    "## SVM"
   ]
  },
  {
   "cell_type": "code",
   "execution_count": 26,
   "metadata": {},
   "outputs": [
    {
     "name": "stderr",
     "output_type": "stream",
     "text": [
      "C:\\Users\\aml_alx\\Anaconda3\\lib\\site-packages\\sklearn\\svm\\base.py:193: FutureWarning: The default value of gamma will change from 'auto' to 'scale' in version 0.22 to account better for unscaled features. Set gamma explicitly to 'auto' or 'scale' to avoid this warning.\n",
      "  \"avoid this warning.\", FutureWarning)\n"
     ]
    },
    {
     "name": "stdout",
     "output_type": "stream",
     "text": [
      "Confusion matrix:  tn=1485,  fp=15,  fn=104,  tp=1313\n",
      "Pipeline\n",
      "\n",
      "Optimized Model\n",
      "------\n",
      "Best Parameters: {'fs__k': 1000, 'fs__score_func': <function chi2 at 0x00000175672FA598>, 'svc__C': 0.3, 'svc__gamma': 0.001, 'svc__kernel': 'linear'}\n",
      "Accuracy: 0.9592\n",
      "F1-score: 0.9566\n",
      "Precision: 0.9887\n",
      "Recall: 0.9266\n",
      "AUC: 0.9918\n"
     ]
    },
    {
     "name": "stderr",
     "output_type": "stream",
     "text": [
      "C:\\Users\\aml_alx\\Anaconda3\\lib\\site-packages\\ipykernel_launcher.py:8: DeprecationWarning: scipy.interp is deprecated and will be removed in SciPy 2.0.0, use numpy.interp instead\n",
      "  \n"
     ]
    }
   ],
   "source": [
    "param_grid = {\n",
    "    'svc__C': [0.3],  \n",
    "    'svc__gamma': [0.001,0.009,0.1,1], \n",
    "    'svc__kernel': ['linear','rbf'],\n",
    "    'fs__k':[1000],\n",
    "    'fs__score_func':[chi2]\n",
    "}\n",
    "\n",
    "pipe = Pipeline([('fs',SelectKBest()),('svc', SVC(probability=True))])\n",
    "\n",
    "model_svc,SVC_accuracy,SVC_f1_score,SVC_precision,SVC_recall,SVC_auc,SVC_tpr = param_tuning(pipe,param_grid,X_v,y_train,Xt_v,y_test)"
   ]
  },
  {
   "cell_type": "markdown",
   "metadata": {},
   "source": [
    "## RandomForest Classifier"
   ]
  },
  {
   "cell_type": "code",
   "execution_count": 17,
   "metadata": {},
   "outputs": [
    {
     "name": "stderr",
     "output_type": "stream",
     "text": [
      "C:\\Users\\aml_alx\\Anaconda3\\lib\\site-packages\\sklearn\\ensemble\\forest.py:245: FutureWarning: The default value of n_estimators will change from 10 in version 0.20 to 100 in 0.22.\n",
      "  \"10 in version 0.20 to 100 in 0.22.\", FutureWarning)\n"
     ]
    },
    {
     "name": "stdout",
     "output_type": "stream",
     "text": [
      "Confusion matrix:  tn=1469,  fp=31,  fn=119,  tp=1298\n",
      "Pipeline\n",
      "\n",
      "Optimized Model\n",
      "------\n",
      "Best Parameters: {'fs__k': 1000, 'fs__score_func': <function chi2 at 0x00000175672FA598>, 'rfc__criterion': 'entropy', 'rfc__max_depth': 90, 'rfc__min_samples_leaf': 1, 'rfc__min_samples_split': 2, 'rfc__n_estimators': 400}\n",
      "Accuracy: 0.9486\n",
      "F1-score: 0.9454\n",
      "Precision: 0.9767\n",
      "Recall: 0.9160\n",
      "AUC: 0.9890\n"
     ]
    },
    {
     "name": "stderr",
     "output_type": "stream",
     "text": [
      "C:\\Users\\aml_alx\\Anaconda3\\lib\\site-packages\\ipykernel_launcher.py:8: DeprecationWarning: scipy.interp is deprecated and will be removed in SciPy 2.0.0, use numpy.interp instead\n",
      "  \n"
     ]
    }
   ],
   "source": [
    "param_grid = {\n",
    "    'rfc__n_estimators': [200, 300, 400,500],\n",
    "    'rfc__min_samples_leaf': [1, 2, 4],\n",
    "    'rfc__min_samples_split': [2, 5, 10],\n",
    "    'rfc__criterion':['entropy'],\n",
    "    'rfc__max_depth':[10,70,100,300,400],\n",
    "    'fs__k':[1000],\n",
    "    'fs__score_func':[chi2]\n",
    "}\n",
    "\n",
    "pipe = Pipeline([('fs',SelectKBest()),('rfc', RandomForestClassifier())])\n",
    "\n",
    "model_rfc,RFC_accuracy,RFC_f1_score,RFC_precision,RFC_recall,RFC_auc,RFC_tpr  = param_tuning(pipe,param_grid,X_v,y_train,Xt_v,y_test)"
   ]
  },
  {
   "cell_type": "code",
   "execution_count": 27,
   "metadata": {},
   "outputs": [
    {
     "data": {
      "image/png": "[encoded data removed]",
      "text/plain": [
       "<Figure size 432x288 with 1 Axes>"
      ]
     },
     "metadata": {
      "needs_background": "light"
     },
     "output_type": "display_data"
    }
   ],
   "source": [
    "ADA_metrics=np.array([ADA_accuracy,ADA_f1_score,ADA_precision,ADA_recall])\n",
    "SVM_metrics = np.array([SVC_accuracy,SVC_f1_score,SVC_precision,SVC_recall])\n",
    "RF_metrics = np.array([RFC_accuracy, RFC_precision, RFC_recall, RFC_f1_score])\n",
    "index = ['accuracy', 'precision', 'recall', 'F1-score']\n",
    "df_metrics = pd.DataFrame({'ADA': ADA_metrics, 'SVM':SVM_metrics,'Random Forest': RF_metrics}, index=index)\n",
    "df_metrics.plot.bar(rot=0)\n",
    "plt.legend(loc=\"lower right\")\n",
    "plt.show()"
   ]
  },
  {
   "cell_type": "code",
   "execution_count": 28,
   "metadata": {},
   "outputs": [
    {
     "data": {
      "image/png": "[encoded data removed]",
      "text/plain": [
       "<Figure size 432x288 with 1 Axes>"
      ]
     },
     "metadata": {
      "needs_background": "light"
     },
     "output_type": "display_data"
    }
   ],
   "source": [
    "plt.plot([0, 1], [0, 1], linestyle='--', lw=2, color='r', label='Chance', alpha=0.8)\n",
    "plt.plot(mean_fpr, SVC_tpr[0,:], lw=2, color='blue', label='SVM (AUC = %0.2f)' % (SVC_auc), alpha=0.8)\n",
    "plt.plot(mean_fpr, RFC_tpr[0,:], lw=2, color='orange', label='Random Forest (AUC = %0.2f)' % (RFC_auc), alpha=0.8)\n",
    "plt.plot(mean_fpr, ADA_tpr[0,:], lw=2, color='red', label='ADA BOOST (AUC = %0.2f)' % (ADA_auc), alpha=0.8)\n",
    "plt.xlabel('False Positive Rate')\n",
    "plt.ylabel('True Positive Rate')\n",
    "plt.title('ROC curves for multiple classifiers')\n",
    "plt.legend(loc=\"lower right\")\n",
    "plt.show()"
   ]
  },
  {
   "cell_type": "markdown",
   "metadata": {},
   "source": [
    "## Testing"
   ]
  },
  {
   "cell_type": "code",
   "execution_count": 20,
   "metadata": {},
   "outputs": [
    {
     "name": "stdout",
     "output_type": "stream",
     "text": [
      "Started cleaning data in dataframe (1000, 2)\n",
      "Finished cleaning data in dataframe (998, 2)\n",
      "Started cleaning data in dataframe (1000, 2)\n",
      "Finished cleaning data in dataframe (999, 2)\n",
      "1    999\n",
      "0    998\n",
      "Name: class, dtype: int64\n"
     ]
    }
   ],
   "source": [
    "test_data=pd.DataFrame()\n",
    "t1=df_data_2[df_data_2['class']==0].iloc[0:1000,]\n",
    "t1=post_tokenizing_dataset1(t1)\n",
    "t2=df_data_3[df_data_3['class']==1].iloc[8000:9000,]\n",
    "t2=post_tokenizing_dataset3(t2)\n",
    "test_data=test_data.append(t1 , ignore_index = True)\n",
    "test_data=test_data.append(t2 , ignore_index = True)\n",
    "test_data=sklearn.utils.shuffle(test_data)\n",
    "print(test_data['class'].value_counts())"
   ]
  },
  {
   "cell_type": "code",
   "execution_count": 21,
   "metadata": {},
   "outputs": [],
   "source": [
    "def measure_model(token_df_test,model,vectorizer):\n",
    "    token_list_test=[]\n",
    "    for val in token_df_test.values:\n",
    "        token_list_test.append(val[0])\n",
    "    X=vectorizer.transform(token_list_test)\n",
    "    y=token_df_test['class']\n",
    "    y=y.astype('int')\n",
    "    accuracy,f1,precision, recall,_,_=model_evaluation(X,y,model)\n",
    "    return accuracy, f1,precision, recall "
   ]
  },
  {
   "cell_type": "markdown",
   "metadata": {},
   "source": [
    "## SVM"
   ]
  },
  {
   "cell_type": "code",
   "execution_count": 29,
   "metadata": {},
   "outputs": [
    {
     "name": "stdout",
     "output_type": "stream",
     "text": [
      "Confusion matrix:  tn=945,  fp=53,  fn=41,  tp=958\n",
      "accuracy:0.9529293940911367,   precision:0.9475766567754699,   recall:0.958958958958959,   f1:0.9532338308457712\n"
     ]
    },
    {
     "name": "stderr",
     "output_type": "stream",
     "text": [
      "C:\\Users\\aml_alx\\Anaconda3\\lib\\site-packages\\ipykernel_launcher.py:8: DeprecationWarning: scipy.interp is deprecated and will be removed in SciPy 2.0.0, use numpy.interp instead\n",
      "  \n"
     ]
    }
   ],
   "source": [
    "SVC_accuracy_test,SVC_f1_score_test,SVC_precision_test,SVC_recall_test=measure_model(test_data,model_svc,vectorizer)\n",
    "print(\"accuracy:{a},   precision:{p},   recall:{r},   f1:{f}\".format(a=SVC_accuracy_test,p=SVC_precision_test,r=SVC_recall_test,f=SVC_f1_score_test))"
   ]
  },
  {
   "cell_type": "markdown",
   "metadata": {},
   "source": [
    "## ADA BOOST"
   ]
  },
  {
   "cell_type": "code",
   "execution_count": 23,
   "metadata": {
    "scrolled": true
   },
   "outputs": [
    {
     "name": "stdout",
     "output_type": "stream",
     "text": [
      "Confusion matrix:  tn=910,  fp=88,  fn=38,  tp=961\n",
      "accuracy:0.9369053580370555,   precision:0.9161105815061964,   recall:0.9619619619619619,   f1:0.9384765624999999\n"
     ]
    },
    {
     "name": "stderr",
     "output_type": "stream",
     "text": [
      "C:\\Users\\aml_alx\\Anaconda3\\lib\\site-packages\\ipykernel_launcher.py:8: DeprecationWarning: scipy.interp is deprecated and will be removed in SciPy 2.0.0, use numpy.interp instead\n",
      "  \n"
     ]
    }
   ],
   "source": [
    "ADA_accuracy_test,ADA_f1_score_test,ADA_precision_test,ADA_recall_test=measure_model(test_data,model_ada,vectorizer)\n",
    "print(\"accuracy:{a},   precision:{p},   recall:{r},   f1:{f}\".format(a=ADA_accuracy_test,p=ADA_precision_test,r=ADA_recall_test,f=ADA_f1_score_test))"
   ]
  },
  {
   "cell_type": "markdown",
   "metadata": {},
   "source": [
    "## RandomForest Classifier"
   ]
  },
  {
   "cell_type": "code",
   "execution_count": 24,
   "metadata": {},
   "outputs": [
    {
     "name": "stdout",
     "output_type": "stream",
     "text": [
      "Confusion matrix:  tn=771,  fp=227,  fn=48,  tp=951\n",
      "accuracy:0.8622934401602403,   precision:0.8073005093378608,   recall:0.9519519519519519,   f1:0.8736793752870924\n"
     ]
    },
    {
     "name": "stderr",
     "output_type": "stream",
     "text": [
      "C:\\Users\\aml_alx\\Anaconda3\\lib\\site-packages\\ipykernel_launcher.py:8: DeprecationWarning: scipy.interp is deprecated and will be removed in SciPy 2.0.0, use numpy.interp instead\n",
      "  \n"
     ]
    }
   ],
   "source": [
    "RFC_accuracy_test,RFC_f1_score_test,RFC_precision_test,RFC_recall_test=measure_model(test_data,model_rfc,vectorizer)\n",
    "print(\"accuracy:{a},   precision:{p},   recall:{r},   f1:{f}\".format(a=RFC_accuracy_test,p=RFC_precision_test,r=RFC_recall_test,f=RFC_f1_score_test))"
   ]
  },
  {
   "cell_type": "code",
   "execution_count": 25,
   "metadata": {},
   "outputs": [
    {
     "data": {
      "image/png": "[encoded data removed]",
      "text/plain": [
       "<Figure size 432x288 with 1 Axes>"
      ]
     },
     "metadata": {
      "needs_background": "light"
     },
     "output_type": "display_data"
    }
   ],
   "source": [
    "ADA_metrics_test=np.array([ADA_accuracy_test,ADA_f1_score_test,ADA_precision_test,ADA_recall_test])\n",
    "SVM_metrics_test = np.array([SVC_accuracy_test,SVC_f1_score_test,SVC_precision_test,SVC_recall_test])\n",
    "RF_metrics_test = np.array([RFC_accuracy_test,RFC_f1_score_test,RFC_precision_test,RFC_recall_test])\n",
    "index = ['accuracy', 'precision', 'recall', 'F1-score']\n",
    "df_metrics = pd.DataFrame({'ADA': ADA_metrics_test,'SVM':SVM_metrics_test,'Random Forest': RF_metrics_test}, index=index)\n",
    "df_metrics.plot.bar(rot=0)\n",
    "plt.legend(loc=\"lower right\")\n",
    "plt.show()"
   ]
  },
  {
   "cell_type": "code",
   "execution_count": null,
   "metadata": {},
   "outputs": [],
   "source": []
  }
 ],
 "metadata": {
  "kernelspec": {
   "display_name": "Python 3",
   "language": "python",
   "name": "python3"
  },
  "language_info": {
   "codemirror_mode": {
    "name": "ipython",
    "version": 3
   },
   "file_extension": ".py",
   "mimetype": "text/x-python",
   "name": "python",
   "nbconvert_exporter": "python",
   "pygments_lexer": "ipython3",
   "version": "3.7.3"
  }
 },
 "nbformat": 4,
 "nbformat_minor": 2
}
