{
 "cells": [
  {
   "cell_type": "code",
   "execution_count": 18,
   "metadata": {},
   "outputs": [],
   "source": [
    "import numpy as np\n",
    "import pandas as pd\n",
    "import os\n",
    "import nltk\n",
    "import sklearn\n",
    "from gensim.models import Word2Vec\n",
    "import re\n",
    "import multiprocessing\n",
    "import tensorflow as tf\n",
    "from keras.preprocessing.text import Tokenizer\n",
    "from collections import Counter\n",
    "from nltk.stem.lancaster import LancasterStemmer\n",
    "from sklearn.metrics import roc_curve, auc, accuracy_score, precision_recall_fscore_support,confusion_matrix\n",
    "from keras.preprocessing.sequence import pad_sequences\n",
    "from nltk.stem import WordNetLemmatizer\n",
    "from nltk.stem.lancaster import LancasterStemmer\n",
    "import matplotlib.pyplot as plt\n",
    "%matplotlib inline\n",
    "import tensorboard\n",
    "tensorboard.__version__\n",
    "from datetime import datetime\n",
    "from packaging import version\n",
    "from sklearn.metrics import auc\n",
    "from sklearn.metrics import roc_curve\n",
    "from beautifultable import BeautifulTable"
   ]
  },
  {
   "cell_type": "code",
   "execution_count": 19,
   "metadata": {},
   "outputs": [],
   "source": [
    "def read_file(df_new):\n",
    "    print(\"Started extracting data from file\",df_new.shape)\n",
    "    dfnew=pd.DataFrame()\n",
    "    dfnew.insert(0,'Post',None)\n",
    "    dfnew.insert(1,'class',None)\n",
    "    for val in df_new.values:\n",
    "        appList=[]\n",
    "        sp=np.array_str(val).split(\",\")\n",
    "        if len(sp)==2:\n",
    "            appList.append(sp[0])\n",
    "            appList.append(sp[1])\n",
    "            dfnew.loc[len(dfnew)]=appList\n",
    "    for i in range(0,dfnew.shape[0]):\n",
    "        dfnew.values[i][1]=int(dfnew.values[i][1].strip(\"\\'|]|\\\"\"))\n",
    "    print(dfnew['class'].value_counts())\n",
    "    print(\"Finished extracting data from file\",dfnew.shape)\n",
    "    return dfnew"
   ]
  },
  {
   "cell_type": "code",
   "execution_count": 20,
   "metadata": {},
   "outputs": [],
   "source": [
    "def post_tokenizing_dataset1(df):\n",
    "    print(\"Started cleaning data in dataframe\", df.shape)\n",
    "    #print(df.head(5))\n",
    "    wpt = nltk.WordPunctTokenizer()\n",
    "    stop_words = nltk.corpus.stopwords.words('english')\n",
    "    lancaster_stemmer=LancasterStemmer()\n",
    "    wordnet_lemmatizer = WordNetLemmatizer()\n",
    "    \n",
    "    token_list=[]\n",
    "    phrase_list=[]\n",
    "    token_df=pd.DataFrame()\n",
    "    token_df.insert(0,'Post',None)\n",
    "    token_df.insert(1,'class',None)\n",
    "    for val in df.values:\n",
    "        append_list=[]\n",
    "        filter_val=re.sub(r'Q:','',val[0])\n",
    "        filter_val=re.sub(r'&#039;[a-z]{1}','',filter_val)\n",
    "        filter_val=re.sub('<[a-z]+>',' ',filter_val).lower()\n",
    "        filter_val=re.sub(r'[^a-zA-Z\\s]', '', filter_val, re.I|re.A)\n",
    "        filter_val=[token for token in wpt.tokenize(filter_val)]\n",
    "        filter_val=[word for word in filter_val if word.isalpha()]\n",
    "        lemma_tokens=[wordnet_lemmatizer.lemmatize(token) for token in filter_val if token not in stop_words and len(token)>=3]\n",
    "        lancaster_tokens = [lancaster_stemmer.stem(word) for word in lemma_tokens]\n",
    "        if(lancaster_tokens):\n",
    "            append_list.append(' '.join(lancaster_tokens))\n",
    "            append_list.append(val[1])\n",
    "            token_df.loc[len(token_df)]=append_list\n",
    "    print(\"Finished cleaning data in dataframe\",token_df.shape)\n",
    "    #print(token_df.head(5))\n",
    "    return token_df"
   ]
  },
  {
   "cell_type": "code",
   "execution_count": 21,
   "metadata": {},
   "outputs": [],
   "source": [
    "def post_tokenizing_dataset3(df):\n",
    "    print(\"Started cleaning data in dataframe\", df.shape)\n",
    "    #print(df.head(5))\n",
    "    wpt = nltk.WordPunctTokenizer()\n",
    "    stop_words = nltk.corpus.stopwords.words('english')\n",
    "    lancaster_stemmer=LancasterStemmer()\n",
    "    wordnet_lemmatizer = WordNetLemmatizer()\n",
    "    \n",
    "    token_df=pd.DataFrame()\n",
    "    token_df.insert(0,'Post',None)\n",
    "    token_df.insert(1,'class',None)\n",
    "    \n",
    "    for val in df.values:\n",
    "        filter_val=[]\n",
    "        value=re.sub(r'@\\w*','',val[0])\n",
    "        value=re.sub(r'&.*;','',value)\n",
    "        value=re.sub(r'http[s?]?:\\/\\/.*[\\r\\n]*','',value)\n",
    "        tokens=[token for token in wpt.tokenize(value)]\n",
    "        tokens=[word for word in tokens if word.isalpha()]\n",
    "        lemma_tokens=[wordnet_lemmatizer.lemmatize(token) for token in tokens if token not in stop_words and len(token)>=3]\n",
    "        lancaster_tokens = [lancaster_stemmer.stem(word) for word in lemma_tokens]\n",
    "        if len(lancaster_tokens)!=0:\n",
    "            filter_val.append(' '.join(lancaster_tokens).lower())\n",
    "            filter_val.append(val[1])\n",
    "            token_df.loc[len(token_df)]=filter_val\n",
    "    \n",
    "    print(\"Finished cleaning data in dataframe\",token_df.shape)\n",
    "    #print(token_df.head(5))\n",
    "    return token_df"
   ]
  },
  {
   "cell_type": "code",
   "execution_count": 22,
   "metadata": {},
   "outputs": [],
   "source": [
    "def remove_less_occurent_words(token_df,counter):\n",
    "    print(\"Started removing less occurent words\",token_df.shape)\n",
    "    token_df_2=pd.DataFrame()\n",
    "    token_df_2.insert(0,'Post',None)\n",
    "    token_df_2.insert(1,'class',None)\n",
    "    less_list=[]\n",
    "    for key,val in counter.items():\n",
    "        if(val==1):\n",
    "            less_list.append(key)\n",
    "    for val in token_df.values:\n",
    "        list_2=[]\n",
    "        split_list=[]\n",
    "        split_list=val[0].split(' ')\n",
    "        for word in split_list:\n",
    "            if word in less_list:\n",
    "                split_list.remove(word)\n",
    "        list_2.append(' '.join(split_list))\n",
    "        list_2.append(val[1])\n",
    "        token_df_2.loc[len(token_df_2)]=list_2\n",
    "    print(\"Finished removing less occurent words\",token_df_2.shape)\n",
    "    return token_df_2"
   ]
  },
  {
   "cell_type": "code",
   "execution_count": 23,
   "metadata": {},
   "outputs": [],
   "source": [
    "def counter_word(text):\n",
    "    print(\"Started counting words\")\n",
    "    count = Counter()\n",
    "    for i in text.values:\n",
    "        for word in i.split():\n",
    "            count[word] += 1\n",
    "    print(\"Finished counting words\")\n",
    "    return count"
   ]
  },
  {
   "cell_type": "code",
   "execution_count": 24,
   "metadata": {},
   "outputs": [
    {
     "name": "stdout",
     "output_type": "stream",
     "text": [
      "Started extracting data from file (12642, 1)\n",
      "0    10794\n",
      "1     1848\n",
      "Name: class, dtype: int64\n",
      "Finished extracting data from file (12642, 2)\n",
      "Started extracting data from file (8856, 1)\n",
      "0    6312\n",
      "1    2505\n",
      "Name: class, dtype: int64\n",
      "Finished extracting data from file (8817, 2)\n"
     ]
    }
   ],
   "source": [
    "df_data_1=read_file(pd.read_csv(\"../../post.csv\",sep=\"\\t\"))\n",
    "df_data_2=read_file(pd.read_csv(\"../../new_data.csv\",sep=\",\"))\n",
    "df_data_3=pd.read_csv(\"../../dataset_4.csv\",sep=\",\")"
   ]
  },
  {
   "cell_type": "code",
   "execution_count": 25,
   "metadata": {},
   "outputs": [
    {
     "name": "stdout",
     "output_type": "stream",
     "text": [
      "Started cleaning data in dataframe (12642, 2)\n",
      "Finished cleaning data in dataframe (12589, 2)\n",
      "Started cleaning data in dataframe (8000, 2)\n",
      "Finished cleaning data in dataframe (7584, 2)\n",
      "1    7584\n",
      "0    7500\n",
      "Name: class, dtype: int64\n",
      "Started counting words\n",
      "Finished counting words\n",
      "12589\n",
      "Started removing less occurent words (15084, 2)\n",
      "Finished removing less occurent words (15084, 2)\n",
      "(8000, 2)\n"
     ]
    }
   ],
   "source": [
    "df_data_1=post_tokenizing_dataset1(df_data_1)\n",
    "tk=df_data_3[df_data_3['class']==1].iloc[0:8000,]\n",
    "post_tk=post_tokenizing_dataset3(tk)\n",
    "post_tk=post_tk.append(df_data_1[df_data_1['class']==0].iloc[0:7500,], ignore_index=True)\n",
    "print(post_tk['class'].value_counts())\n",
    "\n",
    "post_tk=sklearn.utils.shuffle(post_tk)\n",
    "counter_tk = counter_word(post_tk['Post'])\n",
    "print(len(counter_tk))\n",
    "token_tk=remove_less_occurent_words(post_tk,counter_tk)\n",
    "print(tk.shape)"
   ]
  },
  {
   "cell_type": "code",
   "execution_count": 26,
   "metadata": {},
   "outputs": [
    {
     "name": "stdout",
     "output_type": "stream",
     "text": [
      "109\n"
     ]
    }
   ],
   "source": [
    "token_list=[]\n",
    "total_words_max=0\n",
    "for val in token_tk.values:\n",
    "    token_list.append(val[0].split())\n",
    "    if total_words_max<len(val[0].split()):\n",
    "        total_words_max=len(val[0].split())\n",
    "print(total_words_max)"
   ]
  },
  {
   "cell_type": "code",
   "execution_count": 27,
   "metadata": {},
   "outputs": [
    {
     "name": "stdout",
     "output_type": "stream",
     "text": [
      "Total vocabulary size: 2726\n"
     ]
    }
   ],
   "source": [
    "em_dim=300\n",
    "cores = multiprocessing.cpu_count()\n",
    "embeddings=Word2Vec(token_list,min_count=5,\n",
    "                 window=5,\n",
    "                 size=em_dim,\n",
    "                 sample=6e-5, \n",
    "                 alpha=0.03, \n",
    "                 min_alpha=0.0007, \n",
    "                 negative=2,\n",
    "                 workers=cores)\n",
    "words=list(embeddings.wv.vocab)\n",
    "print(\"Total vocabulary size:\",len(words))\n",
    "#docs_vectors=post_vector_calculation(token_list,embeddings)\n"
   ]
  },
  {
   "cell_type": "code",
   "execution_count": 28,
   "metadata": {},
   "outputs": [],
   "source": [
    "filename=\"word2vec_embeddings.txt\"\n",
    "embeddings.wv.save_word2vec_format(filename, binary=False)"
   ]
  },
  {
   "cell_type": "code",
   "execution_count": 29,
   "metadata": {},
   "outputs": [],
   "source": [
    "from sklearn.model_selection import train_test_split\n",
    "from sklearn.ensemble import AdaBoostClassifier\n",
    "\n",
    "X_train, X_test, y_train, y_test = train_test_split(token_tk['Post'],token_tk['class'],test_size = 0.2,stratify=token_tk['class'],\n",
    "                                                   random_state = 42)"
   ]
  },
  {
   "cell_type": "code",
   "execution_count": 30,
   "metadata": {},
   "outputs": [
    {
     "name": "stdout",
     "output_type": "stream",
     "text": [
      "(12067,) (3017,)\n"
     ]
    }
   ],
   "source": [
    "print(X_train.shape, X_test.shape)"
   ]
  },
  {
   "cell_type": "code",
   "execution_count": 31,
   "metadata": {},
   "outputs": [
    {
     "name": "stdout",
     "output_type": "stream",
     "text": [
      "(12067,) (3017,)\n"
     ]
    }
   ],
   "source": [
    "print(y_train.shape,y_test.shape)"
   ]
  },
  {
   "cell_type": "code",
   "execution_count": 32,
   "metadata": {},
   "outputs": [],
   "source": [
    "from keras.preprocessing.text import Tokenizer\n",
    "\n",
    "tokenizer = Tokenizer()\n",
    "tokenizer.fit_on_texts(X_train)\n",
    "X_train_seq=tokenizer.texts_to_sequences(X_train)\n",
    "X_test_seq=tokenizer.texts_to_sequences(X_test)\n",
    "\n",
    "vocab_size=len(tokenizer.word_index)+1\n",
    "\n",
    "X_train_pad=pad_sequences(X_train_seq,maxlen=total_words_max,padding=\"post\", truncating=\"post\")\n",
    "X_test_pad=pad_sequences(X_test_seq,maxlen=total_words_max,padding=\"post\", truncating=\"post\")"
   ]
  },
  {
   "cell_type": "code",
   "execution_count": 33,
   "metadata": {},
   "outputs": [
    {
     "name": "stdout",
     "output_type": "stream",
     "text": [
      "5843\n"
     ]
    }
   ],
   "source": [
    "embeddings_index={}\n",
    "f=open(os.path.join('','word2vec_embeddings.txt'),encoding='utf-8')\n",
    "for line in f:\n",
    "    values=line.split()\n",
    "    word=values[0]\n",
    "    coefs=np.asarray(values[1:])\n",
    "    embeddings_index[word]=coefs\n",
    "f.close()\n",
    "embedding_matrix=np.zeros((vocab_size,em_dim))\n",
    "for word,i in tokenizer.word_index.items():\n",
    "    embedding_vector = embeddings_index.get(word)\n",
    "    if embedding_vector is not None:\n",
    "        embedding_matrix[i] = embedding_vector\n",
    "print(vocab_size)"
   ]
  },
  {
   "cell_type": "code",
   "execution_count": 34,
   "metadata": {},
   "outputs": [],
   "source": [
    "num_lstm = np.random.randint(175, 275)\n",
    "num_dense = np.random.randint(100, 150)\n",
    "rate_drop_lstm = 0.15 + np.random.rand() * 0.25\n",
    "rate_drop_dense = 0.15 + np.random.rand() * 0.25"
   ]
  },
  {
   "cell_type": "code",
   "execution_count": 35,
   "metadata": {},
   "outputs": [],
   "source": [
    "from keras.models import Sequential\n",
    "from keras.layers import Embedding, LSTM, Dense, Dropout, Masking, Activation, Input,TimeDistributed, Bidirectional, Conv1D, MaxPooling1D\n",
    "from keras.initializers import Constant\n",
    "from keras.optimizers import Adam\n",
    "from keras.layers.merge import concatenate\n",
    "from keras.layers.normalization import BatchNormalization\n",
    "from keras.models import Model\n",
    "embedding_layer = Embedding(input_dim=vocab_size,output_dim=em_dim,\n",
    "                            weights=[embedding_matrix], trainable=True,\n",
    "                            mask_zero=True)\n",
    "\n",
    "lstm_layer= LSTM(units=em_dim,dropout=rate_drop_lstm,recurrent_dropout=rate_drop_lstm)\n",
    "\n",
    "model=Sequential()\n",
    "model.add(embedding_layer)\n",
    "model.add(Conv1D(filters=em_dim,kernel_size=4,padding=\"valid\",activation=\"relu\"))\n",
    "model.add(MaxPooling1D(pool_size=2))\n",
    "model.add(Bidirectional(lstm_layer))\n",
    "model.add(Dense(1))\n",
    "model.add(Activation('sigmoid'))\n",
    "\n",
    "optimizer = Adam(learning_rate=3e-4)\n",
    "model.compile(optimizer=optimizer, loss='binary_crossentropy', metrics=['accuracy',tf.keras.metrics.Precision(),tf.keras.metrics.Recall(),tf.keras.metrics.AUC(),tf.keras.metrics.TrueNegatives(),tf.keras.metrics.TruePositives(),tf.keras.metrics.FalseNegatives(),tf.keras.metrics.FalsePositives()])\n"
   ]
  },
  {
   "cell_type": "code",
   "execution_count": 36,
   "metadata": {},
   "outputs": [
    {
     "name": "stdout",
     "output_type": "stream",
     "text": [
      "Model: \"sequential\"\n",
      "_________________________________________________________________\n",
      "Layer (type)                 Output Shape              Param #   \n",
      "=================================================================\n",
      "embedding (Embedding)        (None, None, 300)         1752900   \n",
      "_________________________________________________________________\n",
      "conv1d (Conv1D)              (None, None, 300)         360300    \n",
      "_________________________________________________________________\n",
      "max_pooling1d (MaxPooling1D) (None, None, 300)         0         \n",
      "_________________________________________________________________\n",
      "bidirectional (Bidirectional (None, 600)               1442400   \n",
      "_________________________________________________________________\n",
      "dense (Dense)                (None, 1)                 601       \n",
      "_________________________________________________________________\n",
      "activation (Activation)      (None, 1)                 0         \n",
      "=================================================================\n",
      "Total params: 3,556,201\n",
      "Trainable params: 3,556,201\n",
      "Non-trainable params: 0\n",
      "_________________________________________________________________\n"
     ]
    }
   ],
   "source": [
    "model.summary()"
   ]
  },
  {
   "cell_type": "code",
   "execution_count": 37,
   "metadata": {},
   "outputs": [],
   "source": [
    "y_train=y_train.astype('int')\n",
    "y_test=y_test.astype('int')"
   ]
  },
  {
   "cell_type": "code",
   "execution_count": 38,
   "metadata": {},
   "outputs": [
    {
     "name": "stdout",
     "output_type": "stream",
     "text": [
      "Epoch 1/5\n",
      "378/378 [==============================] - 502s 1s/step - loss: 0.2042 - accuracy: 0.9103 - precision: 0.9209 - recall: 0.8986 - auc: 0.9753 - true_negatives: 5532.0000 - true_positives: 5452.0000 - false_negatives: 615.0000 - false_positives: 468.0000 - val_loss: 0.0977 - val_accuracy: 0.9632 - val_precision: 0.9776 - val_recall: 0.9486 - val_auc: 0.9929 - val_true_negatives: 1467.0000 - val_true_positives: 1439.0000 - val_false_negatives: 78.0000 - val_false_positives: 33.0000\n",
      "Epoch 2/5\n",
      "378/378 [==============================] - 523s 1s/step - loss: 0.0573 - accuracy: 0.9784 - precision: 0.9871 - recall: 0.9697 - auc: 0.9975 - true_negatives: 5923.0000 - true_positives: 5883.0000 - false_negatives: 184.0000 - false_positives: 77.0000 - val_loss: 0.1036 - val_accuracy: 0.9642 - val_precision: 0.9650 - val_recall: 0.9637 - val_auc: 0.9927 - val_true_negatives: 1447.0000 - val_true_positives: 1462.0000 - val_false_negatives: 55.0000 - val_false_positives: 53.0000\n",
      "Epoch 3/5\n",
      "378/378 [==============================] - 529s 1s/step - loss: 0.0327 - accuracy: 0.9892 - precision: 0.9919 - recall: 0.9866 - auc: 0.9987 - true_negatives: 5951.0000 - true_positives: 5986.0000 - false_negatives: 81.0000 - false_positives: 49.0000 - val_loss: 0.1218 - val_accuracy: 0.9609 - val_precision: 0.9575 - val_recall: 0.9651 - val_auc: 0.9898 - val_true_negatives: 1435.0000 - val_true_positives: 1464.0000 - val_false_negatives: 53.0000 - val_false_positives: 65.0000\n",
      "Epoch 4/5\n",
      "378/378 [==============================] - 522s 1s/step - loss: 0.0237 - accuracy: 0.9918 - precision: 0.9919 - recall: 0.9918 - auc: 0.9992 - true_negatives: 5951.0000 - true_positives: 6017.0000 - false_negatives: 50.0000 - false_positives: 49.0000 - val_loss: 0.1567 - val_accuracy: 0.9569 - val_precision: 0.9483 - val_recall: 0.9670 - val_auc: 0.9862 - val_true_negatives: 1420.0000 - val_true_positives: 1467.0000 - val_false_negatives: 50.0000 - val_false_positives: 80.0000\n",
      "Epoch 5/5\n",
      "378/378 [==============================] - 491s 1s/step - loss: 0.0211 - accuracy: 0.9923 - precision: 0.9908 - recall: 0.9939 - auc: 0.9995 - true_negatives: 5944.0000 - true_positives: 6030.0000 - false_negatives: 37.0000 - false_positives: 56.0000 - val_loss: 0.1375 - val_accuracy: 0.9602 - val_precision: 0.9533 - val_recall: 0.9684 - val_auc: 0.9878 - val_true_negatives: 1428.0000 - val_true_positives: 1469.0000 - val_false_negatives: 48.0000 - val_false_positives: 72.0000\n"
     ]
    }
   ],
   "source": [
    "final_model = model.fit(\n",
    "    X_train_pad, y_train,epochs=5,validation_data=(X_test_pad, y_test)\n",
    ")"
   ]
  },
  {
   "cell_type": "code",
   "execution_count": 50,
   "metadata": {},
   "outputs": [
    {
     "name": "stdout",
     "output_type": "stream",
     "text": [
      "WARNING:tensorflow:From C:\\Users\\aml_alx\\Anaconda3\\lib\\site-packages\\tensorflow\\python\\training\\tracking\\tracking.py:111: Model.state_updates (from tensorflow.python.keras.engine.training) is deprecated and will be removed in a future version.\n",
      "Instructions for updating:\n",
      "This property should not be used in TensorFlow 2.0, as updates are applied automatically.\n",
      "WARNING:tensorflow:From C:\\Users\\aml_alx\\Anaconda3\\lib\\site-packages\\tensorflow\\python\\training\\tracking\\tracking.py:111: Layer.updates (from tensorflow.python.keras.engine.base_layer) is deprecated and will be removed in a future version.\n",
      "Instructions for updating:\n",
      "This property should not be used in TensorFlow 2.0, as updates are applied automatically.\n",
      "INFO:tensorflow:Assets written to: Word2Vec_LSTM_CNN.model\\assets\n"
     ]
    }
   ],
   "source": [
    "model.save(\"Word2Vec_LSTM_CNN.model\")"
   ]
  },
  {
   "cell_type": "code",
   "execution_count": 39,
   "metadata": {},
   "outputs": [
    {
     "name": "stdout",
     "output_type": "stream",
     "text": [
      "WARNING:tensorflow:From <ipython-input-39-3506372cf9cd>:1: Sequential.predict_classes (from tensorflow.python.keras.engine.sequential) is deprecated and will be removed after 2021-01-01.\n",
      "Instructions for updating:\n",
      "Please use instead:* `np.argmax(model.predict(x), axis=-1)`,   if your model does multi-class classification   (e.g. if it uses a `softmax` last-layer activation).* `(model.predict(x) > 0.5).astype(\"int32\")`,   if your model does binary classification   (e.g. if it uses a `sigmoid` last-layer activation).\n",
      "Confusion matrix:  tn=1428,  fp=72,  fn=48,  tp=1469\n"
     ]
    }
   ],
   "source": [
    "pred_val=model.predict_classes(X_test_pad)\n",
    "tn, fp, fn, tp = confusion_matrix(y_test,pred_val).ravel()\n",
    "print(\"Confusion matrix:  tn={tn},  fp={fp},  fn={fn},  tp={tp}\".format(tn=tn,fp=fp,fn=fn,tp=tp))"
   ]
  },
  {
   "cell_type": "code",
   "execution_count": 40,
   "metadata": {},
   "outputs": [],
   "source": [
    "fpr_keras, tpr_keras, thresholds_keras = roc_curve(y_test, pred_val)\n",
    "auc_keras = auc(fpr_keras, tpr_keras)"
   ]
  },
  {
   "cell_type": "code",
   "execution_count": 41,
   "metadata": {},
   "outputs": [
    {
     "data": {
      "image/png": "[encoded data removed]",
      "text/plain": [
       "<Figure size 432x288 with 1 Axes>"
      ]
     },
     "metadata": {
      "needs_background": "light"
     },
     "output_type": "display_data"
    }
   ],
   "source": [
    "plt.figure(1)\n",
    "plt.plot([0, 1], [0, 1], 'k--')\n",
    "plt.plot(fpr_keras, tpr_keras, label='Keras (auc = {:.3f})'.format(auc_keras))\n",
    "plt.xlabel('False positive rate')\n",
    "plt.ylabel('True positive rate')\n",
    "plt.title('ROC curve')\n",
    "plt.legend(loc='best')\n",
    "plt.show()"
   ]
  },
  {
   "cell_type": "code",
   "execution_count": 48,
   "metadata": {},
   "outputs": [],
   "source": [
    "LSTM_accuracy=final_model.history['val_accuracy'][4]\n",
    "LSTM_precision=final_model.history['val_precision'][4]\n",
    "LSTM_recall=final_model.history['val_recall'][4]\n",
    "LSTM_f1_score= 2 * ((LSTM_precision*LSTM_recall)/(LSTM_precision+LSTM_recall))"
   ]
  },
  {
   "cell_type": "code",
   "execution_count": 49,
   "metadata": {},
   "outputs": [
    {
     "name": "stdout",
     "output_type": "stream",
     "text": [
      "+-----------+----------+------------+-----------+--------+\n",
      "| Algorithm | Accuracy | F1 Measure | Precision | Recall |\n",
      "+-----------+----------+------------+-----------+--------+\n",
      "|   LSTM    |   0.96   |   0.961    |   0.953   | 0.968  |\n",
      "+-----------+----------+------------+-----------+--------+\n"
     ]
    },
    {
     "name": "stderr",
     "output_type": "stream",
     "text": [
      "C:\\Users\\aml_alx\\Anaconda3\\lib\\site-packages\\beautifultable\\utils.py:113: FutureWarning: 'BeautifulTable.column_headers' has been deprecated in 'v1.0.0' and will be removed in 'v1.2.0'. Use 'BTColumnCollection.header' instead.\n",
      "  warnings.warn(message, FutureWarning)\n",
      "C:\\Users\\aml_alx\\Anaconda3\\lib\\site-packages\\beautifultable\\utils.py:113: FutureWarning: 'BeautifulTable.append_row' has been deprecated in 'v1.0.0' and will be removed in 'v1.2.0'. Use 'BTRowCollection.append' instead.\n",
      "  warnings.warn(message, FutureWarning)\n"
     ]
    }
   ],
   "source": [
    "h0=[\"Algorithm\"]\n",
    "h1=[\"LSTM\",LSTM_accuracy,LSTM_f1_score,LSTM_precision,LSTM_recall]\n",
    "\n",
    "h0.append(\"Accuracy\")\n",
    "h0.append(\"F1 Measure\")\n",
    "h0.append(\"Precision\")\n",
    "h0.append(\"Recall\")\n",
    "\n",
    "table = BeautifulTable()\n",
    "table.column_headers = h0\n",
    "table.append_row(h1)\n",
    "print(table)"
   ]
  },
  {
   "cell_type": "code",
   "execution_count": 51,
   "metadata": {},
   "outputs": [
    {
     "data": {
      "image/png": "[encoded data removed]",
      "text/plain": [
       "<Figure size 432x288 with 1 Axes>"
      ]
     },
     "metadata": {
      "needs_background": "light"
     },
     "output_type": "display_data"
    }
   ],
   "source": [
    "LSTM_metrics=np.array([LSTM_accuracy,LSTM_f1_score,LSTM_precision,LSTM_recall])\n",
    "index = ['accuracy', 'F1-score', 'precision', 'recall']\n",
    "df_metrics = pd.DataFrame({'LSTM': LSTM_metrics}, index=index)\n",
    "df_metrics.plot.bar(rot=0)\n",
    "plt.legend(loc=\"lower right\")\n",
    "plt.show()"
   ]
  },
  {
   "cell_type": "markdown",
   "metadata": {},
   "source": [
    "## Testing"
   ]
  },
  {
   "cell_type": "code",
   "execution_count": 42,
   "metadata": {},
   "outputs": [
    {
     "name": "stdout",
     "output_type": "stream",
     "text": [
      "Started cleaning data in dataframe (1000, 2)\n",
      "Finished cleaning data in dataframe (998, 2)\n",
      "Started cleaning data in dataframe (999, 2)\n",
      "Finished cleaning data in dataframe (998, 2)\n",
      "1    998\n",
      "0    998\n",
      "Name: class, dtype: int64\n"
     ]
    }
   ],
   "source": [
    "test_data=pd.DataFrame()\n",
    "t1=df_data_2[df_data_2['class']==0].iloc[0:1000,]\n",
    "t1=post_tokenizing_dataset1(t1)\n",
    "t2=df_data_3[df_data_3['class']==1].iloc[8001:9000,]\n",
    "t2=post_tokenizing_dataset3(t2)\n",
    "test_data=test_data.append(t1 , ignore_index = True)\n",
    "test_data=test_data.append(t2 , ignore_index = True)\n",
    "test_data=sklearn.utils.shuffle(test_data)\n",
    "print(test_data['class'].value_counts())"
   ]
  },
  {
   "cell_type": "code",
   "execution_count": 43,
   "metadata": {},
   "outputs": [
    {
     "name": "stdout",
     "output_type": "stream",
     "text": [
      "Started counting words\n",
      "Finished counting words\n",
      "3402\n",
      "Started removing less occurent words (1996, 2)\n",
      "Finished removing less occurent words (1996, 2)\n",
      "19\n"
     ]
    }
   ],
   "source": [
    "counter_test= counter_word(test_data['Post'])\n",
    "print(len(counter_test))\n",
    "test_data=remove_less_occurent_words(test_data,counter_test)\n",
    "token_list_test=[]\n",
    "maxi_test=0\n",
    "for val in test_data.values:\n",
    "    token_list_test.append(val[0].split())\n",
    "    if maxi_test<len(val[0].split()):\n",
    "        maxi_test=len(val[0].split())\n",
    "print(maxi_test)"
   ]
  },
  {
   "cell_type": "code",
   "execution_count": 44,
   "metadata": {},
   "outputs": [],
   "source": [
    "sequences_test=tokenizer.texts_to_sequences(token_list_test)\n",
    "review_pad_test=pad_sequences(sequences_test,maxlen=maxi_test,padding=\"post\", truncating=\"post\")"
   ]
  },
  {
   "cell_type": "code",
   "execution_count": 45,
   "metadata": {},
   "outputs": [],
   "source": [
    "def model_evaluation(X_test, y_test, model):\n",
    "    _predicted_values = model.predict_classes(X_test)\n",
    "    _accuracy = accuracy_score(y_test, _predicted_values)\n",
    "    _precision, _recall, _f1_score, _ = precision_recall_fscore_support(y_test, _predicted_values, labels=[1])\n",
    "    tn, fp, fn, tp = confusion_matrix(y_test, _predicted_values).ravel()\n",
    "    print(\"Confusion matrix:  tn={tn},  fp={fp},  fn={fn},  tp={tp}\".format(tn=tn,fp=fp,fn=fn,tp=tp))\n",
    "    return _accuracy, _precision[0], _recall[0], _f1_score[0]"
   ]
  },
  {
   "cell_type": "code",
   "execution_count": 46,
   "metadata": {},
   "outputs": [
    {
     "name": "stdout",
     "output_type": "stream",
     "text": [
      "Confusion matrix:  tn=732,  fp=266,  fn=34,  tp=964\n",
      "accuracy:0.8496993987975952,   precision:0.7837398373983739,   recall:0.9659318637274549,   f1:0.8653500897666069\n"
     ]
    }
   ],
   "source": [
    "X=review_pad_test\n",
    "y=test_data['class']\n",
    "y=y.astype('int')\n",
    "accuracy, precision, recall, f1=model_evaluation(X,y,model)\n",
    "print(\"accuracy:{a},   precision:{p},   recall:{r},   f1:{f}\".format(a=accuracy,p=precision,r=recall,f=f1))"
   ]
  },
  {
   "cell_type": "code",
   "execution_count": 52,
   "metadata": {},
   "outputs": [
    {
     "data": {
      "image/png": "[encoded data removed]",
      "text/plain": [
       "<Figure size 432x288 with 1 Axes>"
      ]
     },
     "metadata": {
      "needs_background": "light"
     },
     "output_type": "display_data"
    }
   ],
   "source": [
    "LSTM_metrics_test=np.array([accuracy,f1,precision,recall])\n",
    "index = ['accuracy', 'F1-score', 'precision', 'recall']\n",
    "df_metrics = pd.DataFrame({'LSTM': LSTM_metrics_test}, index=index)\n",
    "df_metrics.plot.bar(rot=0)\n",
    "plt.legend(loc=\"lower right\")\n",
    "plt.show()"
   ]
  },
  {
   "cell_type": "code",
   "execution_count": null,
   "metadata": {},
   "outputs": [],
   "source": []
  }
 ],
 "metadata": {
  "kernelspec": {
   "display_name": "Python 3",
   "language": "python",
   "name": "python3"
  },
  "language_info": {
   "codemirror_mode": {
    "name": "ipython",
    "version": 3
   },
   "file_extension": ".py",
   "mimetype": "text/x-python",
   "name": "python",
   "nbconvert_exporter": "python",
   "pygments_lexer": "ipython3",
   "version": "3.7.3"
  }
 },
 "nbformat": 4,
 "nbformat_minor": 2
}
