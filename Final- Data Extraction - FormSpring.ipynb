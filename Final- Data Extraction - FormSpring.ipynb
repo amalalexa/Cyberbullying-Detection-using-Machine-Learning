{
 "cells": [
  {
   "cell_type": "code",
   "execution_count": 5,
   "metadata": {},
   "outputs": [],
   "source": [
    "import pandas as pd"
   ]
  },
  {
   "cell_type": "code",
   "execution_count": 6,
   "metadata": {},
   "outputs": [],
   "source": [
    "data=pd.read_csv(\"formspring_data.csv\",sep=\"\\t\")"
   ]
  },
  {
   "cell_type": "code",
   "execution_count": 7,
   "metadata": {},
   "outputs": [
    {
     "name": "stdout",
     "output_type": "stream",
     "text": [
      "(12773, 14)\n"
     ]
    }
   ],
   "source": [
    "print(data.shape)"
   ]
  },
  {
   "cell_type": "code",
   "execution_count": 4,
   "metadata": {},
   "outputs": [],
   "source": [
    "#Removing 'nan' values from the dataset\n",
    "dataList=[]\n",
    "string=\"\"\n",
    "for i in data.values:\n",
    "    for j in i:\n",
    "        if(isinstance(j,str)):\n",
    "            string+=j\n",
    "    dataList.append(string)\n",
    "    string=\"\""
   ]
  },
  {
   "cell_type": "code",
   "execution_count": 17,
   "metadata": {},
   "outputs": [],
   "source": [
    "postList=[]\n",
    "postList.append(['Post','ContainsOrNot'])\n",
    "for val in dataList:\n",
    "    split_list=val.split(\"\\t\")\n",
    "    if(len(split_list)==14):\n",
    "        phrase_list=[]\n",
    "        if split_list[-9]=='Yes' or split_list[-6]=='Yes' or split_list[-3]=='Yes':\n",
    "            phrase_list.append(split_list[1])\n",
    "            phrase_list.append(1)\n",
    "        else:\n",
    "            phrase_list.append(split_list[1])\n",
    "            phrase_list.append(0)\n",
    "        \n",
    "        postList.append(phrase_list)\n",
    "            \n",
    "            "
   ]
  },
  {
   "cell_type": "code",
   "execution_count": 24,
   "metadata": {},
   "outputs": [],
   "source": [
    "df=pd.DataFrame(postList)"
   ]
  },
  {
   "cell_type": "code",
   "execution_count": 25,
   "metadata": {},
   "outputs": [],
   "source": [
    "df.to_csv('post.csv', index=False, header=False)"
   ]
  }
 ],
 "metadata": {
  "kernelspec": {
   "display_name": "Python 3",
   "language": "python",
   "name": "python3"
  },
  "language_info": {
   "codemirror_mode": {
    "name": "ipython",
    "version": 3
   },
   "file_extension": ".py",
   "mimetype": "text/x-python",
   "name": "python",
   "nbconvert_exporter": "python",
   "pygments_lexer": "ipython3",
   "version": "3.7.3"
  }
 },
 "nbformat": 4,
 "nbformat_minor": 2
}
